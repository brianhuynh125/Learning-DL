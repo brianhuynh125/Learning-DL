{
 "cells": [
  {
   "cell_type": "markdown",
   "id": "c8684d0d",
   "metadata": {},
   "source": [
    "#Tensor"
   ]
  },
  {
   "cell_type": "markdown",
   "id": "ce2880d7",
   "metadata": {},
   "source": [
    "## Reshaping, stacking, squeezing and unsqueezing tensors"
   ]
  },
  {
   "cell_type": "markdown",
   "id": "6beb1960",
   "metadata": {},
   "source": [
    "Reshaping - reshapes an inpute tensor to a defined shape\n",
    "View - return a view of an input tensor of certain shpae but keep the same tensor (like peeking)\n",
    "Stacking - combine multiple tensors along a new dimension (vstack, hstack)\n",
    "Squeezing - remove all 1 dimisions from a tensors\n",
    "Unsqueeze - add a dimension to a target tensors\n",
    "Permute - return a View of the input tensors with dimisions permuted in a certain way"
   ]
  },
  {
   "cell_type": "code",
   "execution_count": 1,
   "id": "366db305",
   "metadata": {},
   "outputs": [
    {
     "data": {
      "text/plain": [
       "(tensor([1., 2., 3., 4., 5., 6., 7., 8., 9.]), torch.Size([9]))"
      ]
     },
     "execution_count": 1,
     "metadata": {},
     "output_type": "execute_result"
    }
   ],
   "source": [
    "import torch\n",
    "x = torch.arange(1.,10.)\n",
    "x,x.shape"
   ]
  },
  {
   "cell_type": "code",
   "execution_count": null,
   "id": "dcf0ec23",
   "metadata": {},
   "outputs": [
    {
     "data": {
      "text/plain": [
       "(tensor([[1., 2., 3., 4., 5., 6., 7., 8., 9.]]), torch.Size([1, 9]))"
      ]
     },
     "execution_count": 6,
     "metadata": {},
     "output_type": "execute_result"
    }
   ],
   "source": [
    "#Add an extra dimension\n",
    "x_reshaped = x.reshape(1,9) #(9) -> (1,9), doesn't work with wrong ori dim like != 9\n",
    "x_reshaped,x_reshaped.shape"
   ]
  },
  {
   "cell_type": "code",
   "execution_count": 7,
   "id": "000bd9a9",
   "metadata": {},
   "outputs": [
    {
     "data": {
      "text/plain": [
       "(tensor([[1.],\n",
       "         [2.],\n",
       "         [3.],\n",
       "         [4.],\n",
       "         [5.],\n",
       "         [6.],\n",
       "         [7.],\n",
       "         [8.],\n",
       "         [9.]]),\n",
       " torch.Size([9, 1]))"
      ]
     },
     "execution_count": 7,
     "metadata": {},
     "output_type": "execute_result"
    }
   ],
   "source": [
    "#Try adding an extra dim\n",
    "x_reshaped = x.reshape(9,1)\n",
    "x_reshaped, x_reshaped.shape"
   ]
  },
  {
   "cell_type": "markdown",
   "id": "7799b4e5",
   "metadata": {},
   "source": [
    "Reshape meaning that the new dimension has to be equal to the first dim: 1x10 -> 2x5 or 5x2"
   ]
  },
  {
   "cell_type": "code",
   "execution_count": 12,
   "id": "6aaa3f03",
   "metadata": {},
   "outputs": [
    {
     "data": {
      "text/plain": [
       "(tensor([[1., 2., 3., 4., 5., 6., 7., 8., 9.]]), torch.Size([1, 9]))"
      ]
     },
     "execution_count": 12,
     "metadata": {},
     "output_type": "execute_result"
    }
   ],
   "source": [
    "#Changing the view\n",
    "z = x.view(1,9)\n",
    "z,z.shape"
   ]
  },
  {
   "cell_type": "code",
   "execution_count": 27,
   "id": "a5e3ecb0",
   "metadata": {},
   "outputs": [
    {
     "data": {
      "text/plain": [
       "tensor([[1., 1., 1., 1., 1., 1., 1., 1., 1.],\n",
       "        [2., 2., 2., 2., 2., 2., 2., 2., 2.],\n",
       "        [3., 3., 3., 3., 3., 3., 3., 3., 3.],\n",
       "        [4., 4., 4., 4., 4., 4., 4., 4., 4.],\n",
       "        [5., 5., 5., 5., 5., 5., 5., 5., 5.],\n",
       "        [6., 6., 6., 6., 6., 6., 6., 6., 6.],\n",
       "        [7., 7., 7., 7., 7., 7., 7., 7., 7.],\n",
       "        [8., 8., 8., 8., 8., 8., 8., 8., 8.],\n",
       "        [9., 9., 9., 9., 9., 9., 9., 9., 9.]])"
      ]
     },
     "execution_count": 27,
     "metadata": {},
     "output_type": "execute_result"
    }
   ],
   "source": [
    "#Stack tensors\n",
    "x_stacked = torch.stack([x]*9, dim = 1)\n",
    "x_stacked"
   ]
  },
  {
   "cell_type": "code",
   "execution_count": 30,
   "id": "f577f20e",
   "metadata": {},
   "outputs": [
    {
     "data": {
      "text/plain": [
       "tensor([1., 2., 3., 4., 5., 6., 7., 8., 9., 1., 2., 3., 4., 5., 6., 7., 8., 9.,\n",
       "        1., 2., 3., 4., 5., 6., 7., 8., 9., 1., 2., 3., 4., 5., 6., 7., 8., 9.,\n",
       "        1., 2., 3., 4., 5., 6., 7., 8., 9., 1., 2., 3., 4., 5., 6., 7., 8., 9.,\n",
       "        1., 2., 3., 4., 5., 6., 7., 8., 9., 1., 2., 3., 4., 5., 6., 7., 8., 9.,\n",
       "        1., 2., 3., 4., 5., 6., 7., 8., 9.])"
      ]
     },
     "execution_count": 30,
     "metadata": {},
     "output_type": "execute_result"
    }
   ],
   "source": [
    "x_vstacked = torch.vstack([x]*9)\n",
    "x_vstacked\n",
    "\n",
    "x_hstacked = torch.hstack([x]* 9)\n",
    "x_hstacked"
   ]
  },
  {
   "cell_type": "code",
   "execution_count": 45,
   "id": "97412452",
   "metadata": {},
   "outputs": [],
   "source": [
    "#Squeezing and Unsqueezing\n",
    "x_reshaped_2 = x_reshaped.reshape(1,1,1,1,1,1,9)"
   ]
  },
  {
   "cell_type": "markdown",
   "id": "348f83a7",
   "metadata": {},
   "source": [
    "## Indexing"
   ]
  },
  {
   "cell_type": "code",
   "execution_count": 47,
   "id": "b0293e70",
   "metadata": {},
   "outputs": [
    {
     "data": {
      "text/plain": [
       "(tensor([[[1, 2, 3],\n",
       "          [4, 5, 6],\n",
       "          [7, 8, 9]]]),\n",
       " torch.Size([1, 3, 3]))"
      ]
     },
     "execution_count": 47,
     "metadata": {},
     "output_type": "execute_result"
    }
   ],
   "source": [
    "#Select data from tensors with indexing\n",
    "x = torch.arange(1,10).reshape(1,3,3)\n",
    "x, x.shape"
   ]
  },
  {
   "cell_type": "code",
   "execution_count": 48,
   "id": "ca90f481",
   "metadata": {},
   "outputs": [
    {
     "data": {
      "text/plain": [
       "tensor([[1, 2, 3],\n",
       "        [4, 5, 6],\n",
       "        [7, 8, 9]])"
      ]
     },
     "execution_count": 48,
     "metadata": {},
     "output_type": "execute_result"
    }
   ],
   "source": [
    "#Let's index on a new tensor\n",
    "x[0]"
   ]
  },
  {
   "cell_type": "code",
   "execution_count": 51,
   "id": "ae28000d",
   "metadata": {},
   "outputs": [
    {
     "data": {
      "text/plain": [
       "(tensor([1, 2, 3]), tensor([4, 5, 6]))"
      ]
     },
     "execution_count": 51,
     "metadata": {},
     "output_type": "execute_result"
    }
   ],
   "source": [
    "x[0,0],x[0,1]"
   ]
  },
  {
   "cell_type": "markdown",
   "id": "41be019b",
   "metadata": {},
   "source": [
    "## You can also convert between tensors and numpy array by using torch.Tensor.numpy()"
   ]
  },
  {
   "cell_type": "markdown",
   "id": "c5b44462",
   "metadata": {},
   "source": [
    "## Reproducibility (Using seeds)\n",
    "\n"
   ]
  },
  {
   "cell_type": "markdown",
   "id": "f29dfda6",
   "metadata": {},
   "source": [
    "## How to access a GPU for better computation\n"
   ]
  },
  {
   "cell_type": "code",
   "execution_count": 55,
   "id": "1e00ed09",
   "metadata": {},
   "outputs": [
    {
     "data": {
      "text/plain": [
       "False"
      ]
     },
     "execution_count": 55,
     "metadata": {},
     "output_type": "execute_result"
    }
   ],
   "source": [
    "torch.cuda.is_available()"
   ]
  },
  {
   "cell_type": "code",
   "execution_count": 59,
   "id": "cb3feba4",
   "metadata": {},
   "outputs": [
    {
     "data": {
      "text/plain": [
       "1"
      ]
     },
     "execution_count": 59,
     "metadata": {},
     "output_type": "execute_result"
    }
   ],
   "source": [
    "torch.cpu.is_available()\n",
    "torch.cpu.device_count()"
   ]
  },
  {
   "cell_type": "code",
   "execution_count": 58,
   "id": "6368cac3",
   "metadata": {},
   "outputs": [
    {
     "data": {
      "text/plain": [
       "'cpu'"
      ]
     },
     "execution_count": 58,
     "metadata": {},
     "output_type": "execute_result"
    }
   ],
   "source": [
    "device = \"cuda\" if torch.cuda.is_available() else \"cpu\"\n",
    "device"
   ]
  },
  {
   "cell_type": "code",
   "execution_count": null,
   "id": "833c2a25",
   "metadata": {},
   "outputs": [],
   "source": []
  }
 ],
 "metadata": {
  "kernelspec": {
   "display_name": "myvenv",
   "language": "python",
   "name": "python3"
  },
  "language_info": {
   "codemirror_mode": {
    "name": "ipython",
    "version": 3
   },
   "file_extension": ".py",
   "mimetype": "text/x-python",
   "name": "python",
   "nbconvert_exporter": "python",
   "pygments_lexer": "ipython3",
   "version": "3.11.2"
  }
 },
 "nbformat": 4,
 "nbformat_minor": 5
}
