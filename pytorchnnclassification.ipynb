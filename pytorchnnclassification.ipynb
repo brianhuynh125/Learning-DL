{
 "cells": [
  {
   "cell_type": "markdown",
   "id": "f42672aa",
   "metadata": {},
   "source": [
    "## Architecture of a Classification NN\n",
    "\n",
    "# Input layer shape (in_features)\n",
    "\n",
    "Same as number of features (age, sex, height,...)\n",
    "\n",
    "# Hidden layer(s)\n",
    "\n",
    "Depends on the problem, min = 1, max = unlimited\n",
    "\n",
    "# Neurons per hidden layer\n",
    "\n",
    "Also dpends on the problem, it's normally 10-512\n",
    "\n",
    "# Output layer shape (out_features)\n",
    "\n",
    "1 (one class or the other for binary) and 1 per class for multiclass probs\n",
    "\n",
    "# Hidden layer activation\n",
    "\n",
    "Usually ReLu but can be many others\n",
    "\n",
    "# Output Activation\n",
    "\n",
    "Sigmoid/Softmax\n",
    "\n",
    "# Loss Function\n",
    "\n",
    "Binary crossentropy/ Cross Entropy\n",
    "\n",
    "# Optimiser\n",
    "\n",
    "SGD,Adam"
   ]
  },
  {
   "cell_type": "markdown",
   "id": "47c549b4",
   "metadata": {},
   "source": [
    "## Some popular activation function\n",
    "\n",
    "# Sigmoid\n",
    "\n",
    "(aka Logistic function)\n",
    "\n",
    "Smooth gradient, output values bound between 0 and 1 -> normalise the output of neurons\n",
    "\n",
    "Clear Predictions (mostly for binary)\n",
    "\n",
    "Vanish Gradient: for extreme values of X, the network learn slower or refust not to learn\n",
    "\n",
    "Computationally expensive\n",
    "\n",
    "Not zero centered - So if for layers after the sigmoid output layer, the gradients are only calculated (weights) to be either negative or positive, creating a zig zag pattern in learning the gradient.\n",
    "\n",
    "# Tanh function\n",
    "\n",
    "Same with Sigmoid but its output is centered at zero\n",
    "\n",
    "# ReLu (common choice of AF)\n",
    "\n",
    "Computational efficient\n",
    "\n",
    "But if the input is negative, or near zero, the gradient of the function become zero -> backprop cannot be perform hence the network doesn't learn anymore.\n",
    "\n",
    "-> To fix this, we have leaky ReLu\n",
    "\n",
    "\n"
   ]
  },
  {
   "cell_type": "markdown",
   "id": "ba1742e2",
   "metadata": {},
   "source": [
    "## 1. Make classification data\n",
    "\n",
    "Being by using make_circles() method from Scikit-Learn to generate two circles with different coloured dots"
   ]
  },
  {
   "cell_type": "code",
   "execution_count": 5,
   "id": "2dace597",
   "metadata": {},
   "outputs": [],
   "source": [
    "from sklearn.datasets import make_circles"
   ]
  },
  {
   "cell_type": "code",
   "execution_count": 6,
   "id": "f21ca39b",
   "metadata": {},
   "outputs": [],
   "source": [
    "n_samples = 1000\n",
    "\n",
    "x,y = make_circles(n_samples,\n",
    "                   noise = 0.05,\n",
    "                   random_state=42)"
   ]
  },
  {
   "cell_type": "code",
   "execution_count": 7,
   "id": "e5636dd8",
   "metadata": {},
   "outputs": [
    {
     "name": "stdout",
     "output_type": "stream",
     "text": [
      "First 5 X features:\n",
      "[[ 0.74220688  0.24668576]\n",
      " [-0.7340323   0.16869164]\n",
      " [-0.82985872  0.22195899]\n",
      " [-0.42913559  0.67223019]\n",
      " [ 0.44560223 -0.89493556]]\n",
      "\n",
      "First 5 y labels:\n",
      "[1 1 1 1 0]\n"
     ]
    }
   ],
   "source": [
    "print(f\"First 5 X features:\\n{x[:5]}\")\n",
    "print(f\"\\nFirst 5 y labels:\\n{y[:5]}\")"
   ]
  },
  {
   "cell_type": "code",
   "execution_count": 8,
   "id": "449a18dc",
   "metadata": {},
   "outputs": [
    {
     "data": {
      "application/vnd.microsoft.datawrangler.viewer.v0+json": {
       "columns": [
        {
         "name": "index",
         "rawType": "int64",
         "type": "integer"
        },
        {
         "name": "X1",
         "rawType": "float64",
         "type": "float"
        },
        {
         "name": "X2",
         "rawType": "float64",
         "type": "float"
        },
        {
         "name": "label",
         "rawType": "int64",
         "type": "integer"
        }
       ],
       "ref": "d475d706-70a7-436b-bcb5-de4384a68586",
       "rows": [
        [
         "0",
         "0.7422068771217999",
         "0.24668575976368556",
         "1"
        ],
        [
         "1",
         "-0.7340323001248724",
         "0.1686916396209735",
         "1"
        ],
        [
         "2",
         "-0.829858715174144",
         "0.2219589907715641",
         "1"
        ],
        [
         "3",
         "-0.4291355926691528",
         "0.672230188521101",
         "1"
        ],
        [
         "4",
         "0.4456022308704517",
         "-0.8949355556090886",
         "0"
        ],
        [
         "5",
         "-0.4698854865033302",
         "0.7080374504630551",
         "1"
        ],
        [
         "6",
         "-0.016045377874962068",
         "0.805623308373702",
         "1"
        ],
        [
         "7",
         "0.759622952730082",
         "0.159526158078939",
         "1"
        ],
        [
         "8",
         "-0.17569190994404266",
         "-0.7998368929607147",
         "1"
        ],
        [
         "9",
         "-0.11061613303644917",
         "1.042207472050681",
         "0"
        ]
       ],
       "shape": {
        "columns": 3,
        "rows": 10
       }
      },
      "text/html": [
       "<div>\n",
       "<style scoped>\n",
       "    .dataframe tbody tr th:only-of-type {\n",
       "        vertical-align: middle;\n",
       "    }\n",
       "\n",
       "    .dataframe tbody tr th {\n",
       "        vertical-align: top;\n",
       "    }\n",
       "\n",
       "    .dataframe thead th {\n",
       "        text-align: right;\n",
       "    }\n",
       "</style>\n",
       "<table border=\"1\" class=\"dataframe\">\n",
       "  <thead>\n",
       "    <tr style=\"text-align: right;\">\n",
       "      <th></th>\n",
       "      <th>X1</th>\n",
       "      <th>X2</th>\n",
       "      <th>label</th>\n",
       "    </tr>\n",
       "  </thead>\n",
       "  <tbody>\n",
       "    <tr>\n",
       "      <th>0</th>\n",
       "      <td>0.742207</td>\n",
       "      <td>0.246686</td>\n",
       "      <td>1</td>\n",
       "    </tr>\n",
       "    <tr>\n",
       "      <th>1</th>\n",
       "      <td>-0.734032</td>\n",
       "      <td>0.168692</td>\n",
       "      <td>1</td>\n",
       "    </tr>\n",
       "    <tr>\n",
       "      <th>2</th>\n",
       "      <td>-0.829859</td>\n",
       "      <td>0.221959</td>\n",
       "      <td>1</td>\n",
       "    </tr>\n",
       "    <tr>\n",
       "      <th>3</th>\n",
       "      <td>-0.429136</td>\n",
       "      <td>0.672230</td>\n",
       "      <td>1</td>\n",
       "    </tr>\n",
       "    <tr>\n",
       "      <th>4</th>\n",
       "      <td>0.445602</td>\n",
       "      <td>-0.894936</td>\n",
       "      <td>0</td>\n",
       "    </tr>\n",
       "    <tr>\n",
       "      <th>5</th>\n",
       "      <td>-0.469885</td>\n",
       "      <td>0.708037</td>\n",
       "      <td>1</td>\n",
       "    </tr>\n",
       "    <tr>\n",
       "      <th>6</th>\n",
       "      <td>-0.016045</td>\n",
       "      <td>0.805623</td>\n",
       "      <td>1</td>\n",
       "    </tr>\n",
       "    <tr>\n",
       "      <th>7</th>\n",
       "      <td>0.759623</td>\n",
       "      <td>0.159526</td>\n",
       "      <td>1</td>\n",
       "    </tr>\n",
       "    <tr>\n",
       "      <th>8</th>\n",
       "      <td>-0.175692</td>\n",
       "      <td>-0.799837</td>\n",
       "      <td>1</td>\n",
       "    </tr>\n",
       "    <tr>\n",
       "      <th>9</th>\n",
       "      <td>-0.110616</td>\n",
       "      <td>1.042207</td>\n",
       "      <td>0</td>\n",
       "    </tr>\n",
       "  </tbody>\n",
       "</table>\n",
       "</div>"
      ],
      "text/plain": [
       "         X1        X2  label\n",
       "0  0.742207  0.246686      1\n",
       "1 -0.734032  0.168692      1\n",
       "2 -0.829859  0.221959      1\n",
       "3 -0.429136  0.672230      1\n",
       "4  0.445602 -0.894936      0\n",
       "5 -0.469885  0.708037      1\n",
       "6 -0.016045  0.805623      1\n",
       "7  0.759623  0.159526      1\n",
       "8 -0.175692 -0.799837      1\n",
       "9 -0.110616  1.042207      0"
      ]
     },
     "execution_count": 8,
     "metadata": {},
     "output_type": "execute_result"
    }
   ],
   "source": [
    "import pandas as pd\n",
    "circles = pd.DataFrame({\"X1\": x[:, 0],\n",
    "    \"X2\": x[:, 1],\n",
    "    \"label\": y\n",
    "})\n",
    "circles.head(10)"
   ]
  },
  {
   "cell_type": "code",
   "execution_count": 10,
   "id": "a97b9ee8",
   "metadata": {},
   "outputs": [
    {
     "data": {
      "application/vnd.microsoft.datawrangler.viewer.v0+json": {
       "columns": [
        {
         "name": "label",
         "rawType": "int64",
         "type": "integer"
        },
        {
         "name": "count",
         "rawType": "int64",
         "type": "integer"
        }
       ],
       "ref": "3e24c814-5656-4847-bca1-37e3bbbc0c12",
       "rows": [
        [
         "1",
         "500"
        ],
        [
         "0",
         "500"
        ]
       ],
       "shape": {
        "columns": 1,
        "rows": 2
       }
      },
      "text/plain": [
       "label\n",
       "1    500\n",
       "0    500\n",
       "Name: count, dtype: int64"
      ]
     },
     "execution_count": 10,
     "metadata": {},
     "output_type": "execute_result"
    }
   ],
   "source": [
    "circles.label.value_counts()"
   ]
  },
  {
   "cell_type": "code",
   "execution_count": 12,
   "id": "e7193f18",
   "metadata": {},
   "outputs": [
    {
     "data": {
      "image/png": "[encoded data removed]",
      "text/plain": [
       "<Figure size 640x480 with 1 Axes>"
      ]
     },
     "metadata": {},
     "output_type": "display_data"
    }
   ],
   "source": [
    "import matplotlib.pyplot as plt\n",
    "plt.scatter(x=x[:, 0], \n",
    "            y=x[:, 1], \n",
    "            c=y, \n",
    "            cmap=plt.cm.RdYlBu);"
   ]
  },
  {
   "cell_type": "code",
   "execution_count": 13,
   "id": "ccacbaae",
   "metadata": {},
   "outputs": [],
   "source": [
    "# Now we start to build the architecture for the NN model"
   ]
  },
  {
   "cell_type": "markdown",
   "id": "1e3981b3",
   "metadata": {},
   "source": [
    "## Input and output shapes"
   ]
  },
  {
   "cell_type": "code",
   "execution_count": 14,
   "id": "a8dae9cb",
   "metadata": {},
   "outputs": [
    {
     "data": {
      "text/plain": [
       "((1000, 2), (1000,))"
      ]
     },
     "execution_count": 14,
     "metadata": {},
     "output_type": "execute_result"
    }
   ],
   "source": [
    "x.shape,y.shape"
   ]
  },
  {
   "cell_type": "markdown",
   "id": "d0a6291e",
   "metadata": {},
   "source": [
    "## Turn data into tensors and split train/test sets\n"
   ]
  },
  {
   "cell_type": "code",
   "execution_count": 15,
   "id": "da90205b",
   "metadata": {},
   "outputs": [],
   "source": [
    "import torch\n",
    "X = torch.from_numpy(x).type(torch.float)\n",
    "Y = torch.from_numpy(y).type(torch.float)"
   ]
  },
  {
   "cell_type": "code",
   "execution_count": 16,
   "id": "3aeb65c1",
   "metadata": {},
   "outputs": [],
   "source": [
    "from sklearn.model_selection import train_test_split\n",
    "\n",
    "x_train, x_test, y_train, y_test = train_test_split(X,Y,test_size = 0.25, random_state = 42)"
   ]
  },
  {
   "cell_type": "code",
   "execution_count": 18,
   "id": "af759394",
   "metadata": {},
   "outputs": [
    {
     "data": {
      "text/plain": [
       "(750, 750, 250, 250)"
      ]
     },
     "execution_count": 18,
     "metadata": {},
     "output_type": "execute_result"
    }
   ],
   "source": [
    "len(x_train), len(y_train), len(x_test), len(y_test)"
   ]
  },
  {
   "cell_type": "code",
   "execution_count": 19,
   "id": "cdbc1c10",
   "metadata": {},
   "outputs": [],
   "source": [
    "import torch\n",
    "from torch import nn"
   ]
  },
  {
   "cell_type": "code",
   "execution_count": 20,
   "id": "3892839b",
   "metadata": {},
   "outputs": [],
   "source": [
    "class CircleModelV0(nn.Module):\n",
    "    def __init__(self):\n",
    "        super().__init__()\n",
    "        self.layer_1 = nn.Linear(in_features = 2, out_features = 5)\n",
    "        self.layer_2 = nn.Linear(in_features = 5, out_features = 1)\n",
    "        \n",
    "    def forward(self, x):\n",
    "        return self.layer_2(self.layer_1(x))"
   ]
  },
  {
   "cell_type": "code",
   "execution_count": 25,
   "id": "247468c2",
   "metadata": {},
   "outputs": [
    {
     "data": {
      "text/plain": [
       "CircleModelV0(\n",
       "  (layer_1): Linear(in_features=2, out_features=5, bias=True)\n",
       "  (layer_2): Linear(in_features=5, out_features=1, bias=True)\n",
       ")"
      ]
     },
     "execution_count": 25,
     "metadata": {},
     "output_type": "execute_result"
    }
   ],
   "source": [
    "model_0 = CircleModelV0().to(\"cpu\")\n",
    "model_0"
   ]
  },
  {
   "cell_type": "code",
   "execution_count": 26,
   "id": "5f91fd29",
   "metadata": {},
   "outputs": [
    {
     "data": {
      "text/plain": [
       "Sequential(\n",
       "  (0): Linear(in_features=2, out_features=5, bias=True)\n",
       "  (1): Linear(in_features=5, out_features=1, bias=True)\n",
       ")"
      ]
     },
     "execution_count": 26,
     "metadata": {},
     "output_type": "execute_result"
    }
   ],
   "source": [
    "#Alternatively to CircleModelV0 we can use nn.Sequential\n",
    "\n",
    "model_0_v2 = nn.Sequential(\n",
    "    nn.Linear(in_features = 2, out_features =5),\n",
    "    nn.Linear(in_features = 5, out_features = 1),\n",
    ").to(\"cpu\")\n",
    "\n",
    "model_0_v2"
   ]
  },
  {
   "cell_type": "code",
   "execution_count": 28,
   "id": "7366ffb0",
   "metadata": {},
   "outputs": [
    {
     "name": "stdout",
     "output_type": "stream",
     "text": [
      "Length of predictions: 250, Shape: torch.Size([250, 1])\n",
      "Length of test samples: 250, Shape: torch.Size([250])\n",
      "\n",
      "First 10 predictions:\n",
      "tensor([[-0.0062],\n",
      "        [ 0.1706],\n",
      "        [-0.4599],\n",
      "        [ 0.1381],\n",
      "        [-0.4805],\n",
      "        [-0.3649],\n",
      "        [ 0.1449],\n",
      "        [ 0.0265],\n",
      "        [-0.4856],\n",
      "        [ 0.1784]], grad_fn=<SliceBackward0>)\n",
      "\n",
      "First 10 test labels:\n",
      "tensor([1., 0., 1., 0., 1., 1., 0., 0., 1., 0.])\n"
     ]
    }
   ],
   "source": [
    "untrained_preds = model_0(x_test)\n",
    "print(f\"Length of predictions: {len(untrained_preds)}, Shape: {untrained_preds.shape}\")\n",
    "print(f\"Length of test samples: {len(y_test)}, Shape: {y_test.shape}\")\n",
    "print(f\"\\nFirst 10 predictions:\\n{untrained_preds[:10]}\")\n",
    "print(f\"\\nFirst 10 test labels:\\n{y_test[:10]}\")"
   ]
  },
  {
   "cell_type": "code",
   "execution_count": 31,
   "id": "b5d3c0ba",
   "metadata": {},
   "outputs": [],
   "source": [
    "loss_fn = nn.BCEWithLogitsLoss()\n",
    "\n",
    "optimiser = torch.optim.SGD(params = model_0.parameters(), lr = 0.1)"
   ]
  },
  {
   "cell_type": "code",
   "execution_count": 38,
   "id": "72803245",
   "metadata": {},
   "outputs": [],
   "source": [
    "# torch.eq() calculates where two tensors are equal\n",
    "\n",
    "def accuracy_fn(y_true, y_pred):\n",
    "    correct = torch.eq(y_true, y_pred).sum().item()\n",
    "    acc = (correct / len(y_pred))/ 100\n",
    "    return acc\n",
    "    "
   ]
  },
  {
   "cell_type": "markdown",
   "id": "23e79534",
   "metadata": {},
   "source": [
    "## Now we train the model"
   ]
  },
  {
   "cell_type": "code",
   "execution_count": 39,
   "id": "09e1a9df",
   "metadata": {},
   "outputs": [
    {
     "name": "stdout",
     "output_type": "stream",
     "text": [
      "Epoch: 0 | Loss: 0.70790, Accuracy: 0.00% | Test loss: 0.71235, Test acc: 0.00%\n",
      "Epoch: 10 | Loss: 0.70135, Accuracy: 0.00% | Test loss: 0.70786, Test acc: 0.00%\n",
      "Epoch: 20 | Loss: 0.69848, Accuracy: 0.01% | Test loss: 0.70574, Test acc: 0.00%\n",
      "Epoch: 30 | Loss: 0.69702, Accuracy: 0.01% | Test loss: 0.70440, Test acc: 0.00%\n",
      "Epoch: 40 | Loss: 0.69615, Accuracy: 0.01% | Test loss: 0.70334, Test acc: 0.00%\n",
      "Epoch: 50 | Loss: 0.69555, Accuracy: 0.01% | Test loss: 0.70244, Test acc: 0.00%\n",
      "Epoch: 60 | Loss: 0.69511, Accuracy: 0.01% | Test loss: 0.70164, Test acc: 0.00%\n",
      "Epoch: 70 | Loss: 0.69476, Accuracy: 0.01% | Test loss: 0.70093, Test acc: 0.00%\n",
      "Epoch: 80 | Loss: 0.69448, Accuracy: 0.01% | Test loss: 0.70030, Test acc: 0.00%\n",
      "Epoch: 90 | Loss: 0.69425, Accuracy: 0.01% | Test loss: 0.69975, Test acc: 0.00%\n"
     ]
    }
   ],
   "source": [
    "torch.manual_seed(42)\n",
    "\n",
    "epochs = 100\n",
    "\n",
    "train_lost_values = []\n",
    "test_lost_values = []\n",
    "epoch_count = []\n",
    "\n",
    "for epoch in range(epochs):\n",
    "    model_0.train()\n",
    "    \n",
    "    y_logits = model_0(x_train).squeeze()\n",
    "    y_pred = torch.round(torch.sigmoid(y_logits))\n",
    "    #calulate the loss\n",
    "    loss = loss_fn(y_logits,y_train)\n",
    "        \n",
    "    acc = accuracy_fn(y_true = y_train, y_pred = y_pred)\n",
    "    \n",
    "    optimiser.zero_grad()\n",
    "    \n",
    "    loss.backward()\n",
    "    \n",
    "    optimiser.step()\n",
    "    \n",
    "    model_0.eval()\n",
    "    with torch.inference_mode():\n",
    "        test_logits = model_0(x_test).squeeze()\n",
    "        test_pred = torch.round(torch.sigmoid(test_logits))\n",
    "        \n",
    "        test_loss = loss_fn(test_logits,y_test)\n",
    "        test_acc = accuracy_fn(y_true = y_test, y_pred = test_pred)\n",
    "        \n",
    "    if epoch % 10 ==0:\n",
    "        print(f\"Epoch: {epoch} | Loss: {loss:.5f}, Accuracy: {acc:.2f}% | Test loss: {test_loss:.5f}, Test acc: {test_acc:.2f}%\")\n",
    "    \n",
    "    "
   ]
  },
  {
   "cell_type": "markdown",
   "id": "bb9e07cb",
   "metadata": {},
   "source": [
    "we can see that our model perform poorly and indicating underfitting. what we can do right now is to add more layers? add more hidden units? fitting for longer (more epochs)? changing the activation fn? changing the learning rate? changing the loss fn? use transfer learning (take a pretrained model from a similar problem domain)"
   ]
  },
  {
   "cell_type": "code",
   "execution_count": 41,
   "id": "9a86beee",
   "metadata": {},
   "outputs": [
    {
     "data": {
      "text/plain": [
       "CircleModelV1(\n",
       "  (layer_1): Linear(in_features=2, out_features=10, bias=True)\n",
       "  (layer_2): Linear(in_features=10, out_features=10, bias=True)\n",
       "  (layer_3): Linear(in_features=10, out_features=1, bias=True)\n",
       ")"
      ]
     },
     "execution_count": 41,
     "metadata": {},
     "output_type": "execute_result"
    }
   ],
   "source": [
    "class CircleModelV1(nn.Module):\n",
    "    def __init__(self):\n",
    "        super().__init__()\n",
    "        self.layer_1 = nn.Linear(in_features=2, out_features=10)\n",
    "        self.layer_2 = nn.Linear(in_features=10, out_features=10) # extra layer\n",
    "        self.layer_3 = nn.Linear(in_features=10, out_features=1)\n",
    "        \n",
    "    def forward(self, x): # note: always make sure forward is spelt correctly!\n",
    "        # Creating a model like this is the same as below, though below\n",
    "        # generally benefits from speedups where possible.\n",
    "        # z = self.layer_1(x)\n",
    "        # z = self.layer_2(z)\n",
    "        # z = self.layer_3(z)\n",
    "        # return z\n",
    "        return self.layer_3(self.layer_2(self.layer_1(x)))\n",
    "\n",
    "model_1 = CircleModelV1().to(\"cpu\")\n",
    "model_1"
   ]
  },
  {
   "cell_type": "code",
   "execution_count": 42,
   "id": "d4173e69",
   "metadata": {},
   "outputs": [],
   "source": [
    "# loss_fn = nn.BCELoss() # Requires sigmoid on input\n",
    "loss_fn = nn.BCEWithLogitsLoss() # Does not require sigmoid on input\n",
    "optimizer = torch.optim.SGD(model_1.parameters(), lr=0.1)"
   ]
  },
  {
   "cell_type": "code",
   "execution_count": 44,
   "id": "ec09b2dd",
   "metadata": {},
   "outputs": [
    {
     "name": "stdout",
     "output_type": "stream",
     "text": [
      "Epoch: 0 | Loss: 0.69515, Accuracy: 0.01% | Test loss: 0.69350, Test acc: 0.00%\n",
      "Epoch: 100 | Loss: 0.69320, Accuracy: 0.01% | Test loss: 0.69319, Test acc: 0.00%\n",
      "Epoch: 200 | Loss: 0.69302, Accuracy: 0.01% | Test loss: 0.69377, Test acc: 0.01%\n",
      "Epoch: 300 | Loss: 0.69296, Accuracy: 0.01% | Test loss: 0.69412, Test acc: 0.00%\n",
      "Epoch: 400 | Loss: 0.69293, Accuracy: 0.01% | Test loss: 0.69435, Test acc: 0.00%\n",
      "Epoch: 500 | Loss: 0.69292, Accuracy: 0.01% | Test loss: 0.69451, Test acc: 0.00%\n",
      "Epoch: 600 | Loss: 0.69292, Accuracy: 0.01% | Test loss: 0.69462, Test acc: 0.00%\n",
      "Epoch: 700 | Loss: 0.69291, Accuracy: 0.01% | Test loss: 0.69469, Test acc: 0.00%\n",
      "Epoch: 800 | Loss: 0.69291, Accuracy: 0.01% | Test loss: 0.69473, Test acc: 0.00%\n",
      "Epoch: 900 | Loss: 0.69291, Accuracy: 0.01% | Test loss: 0.69476, Test acc: 0.00%\n"
     ]
    }
   ],
   "source": [
    "torch.manual_seed(42)\n",
    "epochs = 1000\n",
    "\n",
    "for epoch in range(epochs):\n",
    "    ### Training\n",
    "    # 1. Forward pass\n",
    "    \n",
    "    model_1.train()\n",
    "    \n",
    "    y_logits = model_1(x_train).squeeze()\n",
    "    y_pred = torch.round(torch.sigmoid(y_logits)) # logits -> prediction probabilities -> prediction labels\n",
    "\n",
    "    # 2. Calculate loss/accuracy\n",
    "    loss = loss_fn(y_logits, y_train)\n",
    "    acc = accuracy_fn(y_true=y_train, \n",
    "                      y_pred=y_pred)\n",
    "\n",
    "    # 3. Optimizer zero grad\n",
    "    optimizer.zero_grad()\n",
    "\n",
    "    # 4. Loss backwards\n",
    "    loss.backward()\n",
    "\n",
    "    # 5. Optimizer step\n",
    "    optimizer.step()\n",
    "\n",
    "    ### Testing\n",
    "    model_1.eval()\n",
    "    with torch.inference_mode():\n",
    "        # 1. Forward pass\n",
    "        test_logits = model_1(x_test).squeeze() \n",
    "        test_pred = torch.round(torch.sigmoid(test_logits))\n",
    "        # 2. Caculate loss/accuracy\n",
    "        test_loss = loss_fn(test_logits,\n",
    "                            y_test)\n",
    "        test_acc = accuracy_fn(y_true=y_test,\n",
    "                               y_pred=test_pred)\n",
    "\n",
    "    # Print out what's happening every 10 epochs\n",
    "    if epoch % 100 == 0:\n",
    "        print(f\"Epoch: {epoch} | Loss: {loss:.5f}, Accuracy: {acc:.2f}% | Test loss: {test_loss:.5f}, Test acc: {test_acc:.2f}%\")"
   ]
  },
  {
   "cell_type": "code",
   "execution_count": null,
   "id": "699bd3f7",
   "metadata": {},
   "outputs": [],
   "source": [
    "#But we have to consider the fact that the data is not linear"
   ]
  },
  {
   "cell_type": "code",
   "execution_count": null,
   "id": "7026087e",
   "metadata": {},
   "outputs": [],
   "source": [
    "# Build model with non-linear activation function, after each layer except for the output layer, a reLu function is activated\n",
    "from torch import nn\n",
    "class CircleModelV2(nn.Module):\n",
    "    def __init__(self):\n",
    "        super().__init__()\n",
    "        self.layer_1 = nn.Linear(in_features=2, out_features=10)\n",
    "        self.layer_2 = nn.Linear(in_features=10, out_features=10)\n",
    "        self.layer_3 = nn.Linear(in_features=10, out_features=1)\n",
    "        self.relu = nn.ReLU() # <- add in ReLU activation function\n",
    "        # Can also put sigmoid in the model \n",
    "        # This would mean you don't need to use it on the predictions\n",
    "        # self.sigmoid = nn.Sigmoid()\n",
    "\n",
    "    def forward(self, x):\n",
    "      # Intersperse the ReLU activation function between layers\n",
    "       return self.layer_3(self.relu(self.layer_2(self.relu(self.layer_1(x)))))\n",
    "\n",
    "model_3 = CircleModelV2().to(device)\n",
    "print(model_3)"
   ]
  }
 ],
 "metadata": {
  "kernelspec": {
   "display_name": "myvenv",
   "language": "python",
   "name": "python3"
  },
  "language_info": {
   "codemirror_mode": {
    "name": "ipython",
    "version": 3
   },
   "file_extension": ".py",
   "mimetype": "text/x-python",
   "name": "python",
   "nbconvert_exporter": "python",
   "pygments_lexer": "ipython3",
   "version": "3.11.2"
  }
 },
 "nbformat": 4,
 "nbformat_minor": 5
}
