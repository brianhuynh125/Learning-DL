{
  "cells": [
    {
      "cell_type": "markdown",
      "metadata": {
        "colab_type": "text",
        "id": "view-in-github"
      },
      "source": [
        "<a href=\"https://colab.research.google.com/github/mrdbourke/pytorch-deep-learning/blob/main/extras/exercises/02_pytorch_classification_exercises.ipynb\" target=\"_parent\"><img src=\"https://colab.research.google.com/assets/colab-badge.svg\" alt=\"Open In Colab\"/></a>"
      ]
    },
    {
      "cell_type": "markdown",
      "metadata": {
        "id": "ZKJFt7YxH8yl"
      },
      "source": [
        "# 02. PyTorch Classification Exercises\n",
        "\n",
        "The following is a template for 02. PyTorch Classification exercises.\n",
        "\n",
        "It's only starter code and it's your job to fill in the blanks.\n",
        "\n",
        "Because of the flexibility of PyTorch, there may be more than one way to answer the question.\n",
        "\n",
        "Don't worry about trying to be *right* just try writing code that suffices the question.\n",
        "\n",
        "## Resources\n",
        "* These exercises are based on [notebook 02 of the learn PyTorch course](https://www.learnpytorch.io/02_pytorch_classification/).\n",
        "* You can see one form of [solutions on GitHub](https://github.com/mrdbourke/pytorch-deep-learning/tree/main/extras/solutions) (but try the exercises below yourself first!)."
      ]
    },
    {
      "cell_type": "code",
      "execution_count": 4,
      "metadata": {
        "id": "CSrUPgapO0tf"
      },
      "outputs": [],
      "source": [
        "# Import torch\n",
        "import torch\n",
        "device = torch.device(\"mps\" if torch.mps.is_available() else \"cpu\")\n",
        "# Setup device agnostic code\n",
        "#Dont need since my mac doesn't have a cpu\n",
        "\n",
        "# Setup random seed\n",
        "RANDOM_SEED = 42"
      ]
    },
    {
      "cell_type": "markdown",
      "metadata": {
        "id": "pH7jIZ2SPFee"
      },
      "source": [
        "## 1. Make a binary classification dataset with Scikit-Learn's [`make_moons()`](https://scikit-learn.org/stable/modules/generated/sklearn.datasets.make_moons.html) function.\n",
        "  * For consistency, the dataset should have 1000 samples and a `random_state=42`.\n",
        "  * Turn the data into PyTorch tensors. \n",
        "  * Split the data into training and test sets using `train_test_split` with 80% training and 20% testing."
      ]
    },
    {
      "cell_type": "code",
      "execution_count": 15,
      "metadata": {
        "id": "5t4VhPV1PX1X"
      },
      "outputs": [],
      "source": [
        "# Create a dataset with Scikit-Learn's make_moons()\n",
        "from sklearn.datasets import make_moons\n",
        "x_moons, y_moons = make_moons(n_samples = 1000, random_state = 42, noise = 0.03)\n"
      ]
    },
    {
      "cell_type": "code",
      "execution_count": null,
      "metadata": {
        "id": "SUeHZ3-3P9C7"
      },
      "outputs": [],
      "source": [
        "# Turn data into a DataFrame\n",
        "import pandas as pd\n",
        "circles = pd.DataFrame({\"X1\": x_moons[:, 0],\n",
        "    \"X2\": x_moons[:, 1],\n",
        "    \"label\": y_moons\n",
        "})\n"
      ]
    },
    {
      "cell_type": "code",
      "execution_count": 17,
      "metadata": {},
      "outputs": [
        {
          "data": {
            "application/vnd.microsoft.datawrangler.viewer.v0+json": {
              "columns": [
                {
                  "name": "index",
                  "rawType": "int64",
                  "type": "integer"
                },
                {
                  "name": "X1",
                  "rawType": "float64",
                  "type": "float"
                },
                {
                  "name": "X2",
                  "rawType": "float64",
                  "type": "float"
                },
                {
                  "name": "label",
                  "rawType": "int64",
                  "type": "integer"
                }
              ],
              "ref": "f86d0179-c7dc-4974-9650-80d2c8826fe1",
              "rows": [
                [
                  "0",
                  "-0.009331868187419715",
                  "0.39098105418015816",
                  "1"
                ],
                [
                  "1",
                  "0.9545738691624412",
                  "-0.47375582788183507",
                  "1"
                ],
                [
                  "2",
                  "0.9185255998380013",
                  "-0.42519647988901554",
                  "1"
                ],
                [
                  "3",
                  "0.41276801969823385",
                  "-0.37638458606042796",
                  "1"
                ],
                [
                  "4",
                  "-0.8453201576791285",
                  "0.5287990751013711",
                  "0"
                ],
                [
                  "5",
                  "0.5795424858467747",
                  "-0.3529786749192238",
                  "1"
                ],
                [
                  "6",
                  "0.2948842632678151",
                  "-0.20923767674383847",
                  "1"
                ],
                [
                  "7",
                  "-0.014488040679850038",
                  "0.4358961006359975",
                  "1"
                ],
                [
                  "8",
                  "1.6265103704826596",
                  "-0.2812074178087713",
                  "1"
                ],
                [
                  "9",
                  "0.6715976694958535",
                  "0.7864222732171882",
                  "0"
                ],
                [
                  "10",
                  "1.3113449829773651",
                  "-0.4151502790015692",
                  "1"
                ],
                [
                  "11",
                  "0.8795901439942223",
                  "0.4888580675405558",
                  "0"
                ],
                [
                  "12",
                  "0.3372031470608245",
                  "-0.2163430724099012",
                  "1"
                ],
                [
                  "13",
                  "1.9663402564991523",
                  "0.2701299246617674",
                  "1"
                ],
                [
                  "14",
                  "1.9587054386348164",
                  "0.10002219927047266",
                  "1"
                ],
                [
                  "15",
                  "1.7608686821731874",
                  "-0.08832186160008484",
                  "1"
                ],
                [
                  "16",
                  "-0.19801868916132656",
                  "1.006313658281475",
                  "0"
                ],
                [
                  "17",
                  "1.7717398842568328",
                  "-0.16423207996030142",
                  "1"
                ],
                [
                  "18",
                  "1.0457937178907926",
                  "-0.48877192307384654",
                  "1"
                ],
                [
                  "19",
                  "-0.4187715961992616",
                  "0.9228578479664462",
                  "0"
                ],
                [
                  "20",
                  "0.020963607003776332",
                  "0.18436562684985627",
                  "1"
                ],
                [
                  "21",
                  "0.4729142575381755",
                  "0.9265610355240331",
                  "0"
                ],
                [
                  "22",
                  "-0.6635138094945789",
                  "0.7238877091143752",
                  "0"
                ],
                [
                  "23",
                  "-0.00020899027137398496",
                  "0.3429460902955619",
                  "1"
                ],
                [
                  "24",
                  "0.2133861545691056",
                  "0.944727323387971",
                  "0"
                ],
                [
                  "25",
                  "0.13645516208535663",
                  "1.0078971080677193",
                  "0"
                ],
                [
                  "26",
                  "0.7941274688342912",
                  "0.6187546488250769",
                  "0"
                ],
                [
                  "27",
                  "2.0352618080136105",
                  "0.4049071183348086",
                  "1"
                ],
                [
                  "28",
                  "1.806430102078984",
                  "-0.09001254526756888",
                  "1"
                ],
                [
                  "29",
                  "1.9758034702625296",
                  "0.2076430596211074",
                  "1"
                ],
                [
                  "30",
                  "-0.529274320593674",
                  "0.8513114704497956",
                  "0"
                ],
                [
                  "31",
                  "0.5919435918112382",
                  "0.7760448491389307",
                  "0"
                ],
                [
                  "32",
                  "0.24464606702437747",
                  "-0.20560450496006247",
                  "1"
                ],
                [
                  "33",
                  "-0.994882173892574",
                  "0.025066961950497235",
                  "0"
                ],
                [
                  "34",
                  "-0.7146611384675424",
                  "0.6560299186412298",
                  "0"
                ],
                [
                  "35",
                  "0.32399730310668956",
                  "1.027202661620251",
                  "0"
                ],
                [
                  "36",
                  "0.6105042321996944",
                  "-0.422170622215672",
                  "1"
                ],
                [
                  "37",
                  "0.19007465198574094",
                  "0.013171555208393838",
                  "1"
                ],
                [
                  "38",
                  "1.822131751795924",
                  "-0.06531610346989385",
                  "1"
                ],
                [
                  "39",
                  "0.9393090382790429",
                  "0.3287750710113634",
                  "0"
                ],
                [
                  "40",
                  "-0.5145871510127537",
                  "0.9369445294689552",
                  "0"
                ],
                [
                  "41",
                  "0.8283627881366036",
                  "0.5712668749979283",
                  "0"
                ],
                [
                  "42",
                  "-0.38611721113188696",
                  "0.9470102832926734",
                  "0"
                ],
                [
                  "43",
                  "2.0637997808877993",
                  "0.35897320945881583",
                  "1"
                ],
                [
                  "44",
                  "-0.32426356597721084",
                  "0.94782967480715",
                  "0"
                ],
                [
                  "45",
                  "-0.14014030751672904",
                  "0.9675657155567916",
                  "0"
                ],
                [
                  "46",
                  "1.916144788178186",
                  "-0.024453855131769398",
                  "1"
                ],
                [
                  "47",
                  "0.18855034200912854",
                  "-0.07503628788309874",
                  "1"
                ],
                [
                  "48",
                  "-0.8913943385682953",
                  "0.344272660883642",
                  "0"
                ],
                [
                  "49",
                  "1.4783547025105115",
                  "-0.3598860334017612",
                  "1"
                ]
              ],
              "shape": {
                "columns": 3,
                "rows": 1000
              }
            },
            "text/html": [
              "<div>\n",
              "<style scoped>\n",
              "    .dataframe tbody tr th:only-of-type {\n",
              "        vertical-align: middle;\n",
              "    }\n",
              "\n",
              "    .dataframe tbody tr th {\n",
              "        vertical-align: top;\n",
              "    }\n",
              "\n",
              "    .dataframe thead th {\n",
              "        text-align: right;\n",
              "    }\n",
              "</style>\n",
              "<table border=\"1\" class=\"dataframe\">\n",
              "  <thead>\n",
              "    <tr style=\"text-align: right;\">\n",
              "      <th></th>\n",
              "      <th>X1</th>\n",
              "      <th>X2</th>\n",
              "      <th>label</th>\n",
              "    </tr>\n",
              "  </thead>\n",
              "  <tbody>\n",
              "    <tr>\n",
              "      <th>0</th>\n",
              "      <td>-0.009332</td>\n",
              "      <td>0.390981</td>\n",
              "      <td>1</td>\n",
              "    </tr>\n",
              "    <tr>\n",
              "      <th>1</th>\n",
              "      <td>0.954574</td>\n",
              "      <td>-0.473756</td>\n",
              "      <td>1</td>\n",
              "    </tr>\n",
              "    <tr>\n",
              "      <th>2</th>\n",
              "      <td>0.918526</td>\n",
              "      <td>-0.425196</td>\n",
              "      <td>1</td>\n",
              "    </tr>\n",
              "    <tr>\n",
              "      <th>3</th>\n",
              "      <td>0.412768</td>\n",
              "      <td>-0.376385</td>\n",
              "      <td>1</td>\n",
              "    </tr>\n",
              "    <tr>\n",
              "      <th>4</th>\n",
              "      <td>-0.845320</td>\n",
              "      <td>0.528799</td>\n",
              "      <td>0</td>\n",
              "    </tr>\n",
              "    <tr>\n",
              "      <th>...</th>\n",
              "      <td>...</td>\n",
              "      <td>...</td>\n",
              "      <td>...</td>\n",
              "    </tr>\n",
              "    <tr>\n",
              "      <th>995</th>\n",
              "      <td>0.793018</td>\n",
              "      <td>0.591402</td>\n",
              "      <td>0</td>\n",
              "    </tr>\n",
              "    <tr>\n",
              "      <th>996</th>\n",
              "      <td>-0.138777</td>\n",
              "      <td>0.968000</td>\n",
              "      <td>0</td>\n",
              "    </tr>\n",
              "    <tr>\n",
              "      <th>997</th>\n",
              "      <td>1.653915</td>\n",
              "      <td>-0.291798</td>\n",
              "      <td>1</td>\n",
              "    </tr>\n",
              "    <tr>\n",
              "      <th>998</th>\n",
              "      <td>-0.934102</td>\n",
              "      <td>0.353582</td>\n",
              "      <td>0</td>\n",
              "    </tr>\n",
              "    <tr>\n",
              "      <th>999</th>\n",
              "      <td>0.796836</td>\n",
              "      <td>0.604237</td>\n",
              "      <td>0</td>\n",
              "    </tr>\n",
              "  </tbody>\n",
              "</table>\n",
              "<p>1000 rows × 3 columns</p>\n",
              "</div>"
            ],
            "text/plain": [
              "           X1        X2  label\n",
              "0   -0.009332  0.390981      1\n",
              "1    0.954574 -0.473756      1\n",
              "2    0.918526 -0.425196      1\n",
              "3    0.412768 -0.376385      1\n",
              "4   -0.845320  0.528799      0\n",
              "..        ...       ...    ...\n",
              "995  0.793018  0.591402      0\n",
              "996 -0.138777  0.968000      0\n",
              "997  1.653915 -0.291798      1\n",
              "998 -0.934102  0.353582      0\n",
              "999  0.796836  0.604237      0\n",
              "\n",
              "[1000 rows x 3 columns]"
            ]
          },
          "execution_count": 17,
          "metadata": {},
          "output_type": "execute_result"
        }
      ],
      "source": [
        "circles"
      ]
    },
    {
      "cell_type": "code",
      "execution_count": 11,
      "metadata": {
        "id": "owrkPSFvQPFI"
      },
      "outputs": [
        {
          "data": {
            "image/png": "[encoded data removed]",
            "text/plain": [
              "<Figure size 640x480 with 1 Axes>"
            ]
          },
          "metadata": {},
          "output_type": "display_data"
        }
      ],
      "source": [
        "# Visualize the data on a scatter plot\n",
        "import matplotlib.pyplot as plt\n",
        "plt.scatter(x=x_moons[:, 0], \n",
        "            y=x_moons[:, 1], \n",
        "            c=y_moons, \n",
        "            cmap=plt.cm.RdYlBu);"
      ]
    },
    {
      "cell_type": "code",
      "execution_count": 16,
      "metadata": {
        "id": "bDhyHn9fR4dq"
      },
      "outputs": [],
      "source": [
        "# Turn data into tensors of dtype float\n",
        "x_moons = torch.from_numpy(x_moons).type(torch.float)\n",
        "y_moons = torch.from_numpy(y_moons).type(torch.float)\n",
        "\n",
        "x_train, x_test, y_train, y_test = train_test_split(x_moons, y_moons, test_size = 0.2, random_state = 42)\n",
        "\n"
      ]
    },
    {
      "cell_type": "markdown",
      "metadata": {
        "id": "cMIjxZdzQfPz"
      },
      "source": [
        "## 2. Build a model by subclassing `nn.Module` that incorporates non-linear activation functions and is capable of fitting the data you created in 1.\n",
        "  * Feel free to use any combination of PyTorch layers (linear and non-linear) you want."
      ]
    },
    {
      "cell_type": "code",
      "execution_count": null,
      "metadata": {
        "id": "hwtyvm34Ri6Q"
      },
      "outputs": [
        {
          "data": {
            "text/plain": [
              "MoonModelV0(\n",
              "  (layer1): Linear(in_features=2, out_features=8, bias=True)\n",
              "  (layer2): Linear(in_features=8, out_features=8, bias=True)\n",
              "  (layer3): Linear(in_features=8, out_features=1, bias=True)\n",
              "  (relu): ReLU()\n",
              ")"
            ]
          },
          "execution_count": 158,
          "metadata": {},
          "output_type": "execute_result"
        }
      ],
      "source": [
        "import torch\n",
        "from torch import nn\n",
        "\n",
        "# Inherit from nn.Module to make a model capable of fitting the mooon data\n",
        "class MoonModelV0(nn.Module):\n",
        "    ## Your code here ##\n",
        "    def __init__(self, input, output, hidden = 8):\n",
        "        super().__init__()\n",
        "        self.layer1 = nn.Linear(in_features=input, \n",
        "                                 out_features=hidden)\n",
        "        self.layer2 = nn.Linear(in_features=hidden, \n",
        "                                 out_features=hidden)\n",
        "        self.layer3 = nn.Linear(in_features=hidden, \n",
        "                                 out_features=hidden)\n",
        "        self.layer4 = nn.Linear(in_features=hidden,\n",
        "                                out_features=output)\n",
        "        self.relu = nn.ReLU()\n",
        "        \n",
        "    def forward(self, x):\n",
        "        ## Your code here ##\n",
        "        return self.layer4(self.relu(self.layer3(self.relu(self.layer2(self.relu(self.layer1(x)))))))\n",
        "\n",
        "# Instantiate the model\n",
        "## Your code here ##\n",
        "input = 2\n",
        "output = 1\n",
        "model_v0 = MoonModelV0(input = input, output = output)\n",
        "model_v0"
      ]
    },
    {
      "cell_type": "markdown",
      "metadata": {
        "id": "DSj97RwyVeFE"
      },
      "source": [
        "## 3. Setup a binary classification compatible loss function and optimizer to use when training the model built in 2."
      ]
    },
    {
      "cell_type": "code",
      "execution_count": 144,
      "metadata": {
        "id": "whSGw5qgVvxU"
      },
      "outputs": [],
      "source": [
        "# Setup loss function\n",
        "loss_fn = nn.BCEWithLogitsLoss()\n",
        "# Setup optimizer to optimize model's parameters\n",
        "optimiser = torch.optim.SGD(params = model_v0.parameters(), lr = 0.1)"
      ]
    },
    {
      "cell_type": "markdown",
      "metadata": {
        "id": "nvk4PfNTWUAt"
      },
      "source": [
        "## 4. Create a training and testing loop to fit the model you created in 2 to the data you created in 1.\n",
        "  * Do a forward pass of the model to see what's coming out in the form of logits, prediction probabilities and labels.\n",
        "  * To measure model accuray, you can create your own accuracy function or use the accuracy function in [TorchMetrics](https://torchmetrics.readthedocs.io/en/latest/).\n",
        "  * Train the model for long enough for it to reach over 96% accuracy.\n",
        "  * The training loop should output progress every 10 epochs of the model's training and test set loss and accuracy."
      ]
    },
    {
      "cell_type": "code",
      "execution_count": 155,
      "metadata": {
        "colab": {
          "base_uri": "https://localhost:8080/"
        },
        "id": "AgnFdlamd2-D",
        "outputId": "627d8c33-071e-4925-f18b-5d5ba6126729"
      },
      "outputs": [
        {
          "name": "stdout",
          "output_type": "stream",
          "text": [
            "Logits:  tensor([-0.3684, -0.0690, -0.1062, -0.1045, -0.0955, -0.1019, -0.1015, -0.0746,\n",
            "        -0.1520, -0.0589, -0.1062, -0.1035, -0.0604, -0.1216, -0.2219, -0.0986,\n",
            "        -0.2033, -0.1044, -0.0810, -0.1303, -0.3525, -0.3146, -0.0520, -0.2306,\n",
            "        -0.1274, -0.1443, -0.2023, -0.1475, -0.1729, -0.1686, -0.0816, -0.2287,\n",
            "        -0.2193, -0.3408, -0.0493, -0.1731, -0.3987, -0.1431, -0.1028, -0.0956,\n",
            "        -0.0863, -0.2339, -0.0964, -0.2549, -0.0929, -0.3214, -0.1020, -0.2181,\n",
            "        -0.0985, -0.0924, -0.1008, -0.0956, -0.0940, -0.1018, -0.1565, -0.0941,\n",
            "        -0.2151, -0.3448, -0.1814, -0.1067, -0.0758, -0.2104, -0.2085, -0.2006,\n",
            "        -0.0720, -0.2216, -0.0911, -0.1037, -0.0509, -0.1740, -0.2810, -0.0685,\n",
            "        -0.2127, -0.2210, -0.0945, -0.1888, -0.0957, -0.1039, -0.2253, -0.0849,\n",
            "        -0.0771, -0.1948, -0.0964, -0.3635, -0.1778, -0.2604, -0.1739, -0.0995,\n",
            "        -0.0909, -0.2756, -0.0796, -0.2554, -0.1530, -0.0803, -0.1815, -0.0683,\n",
            "        -0.0980, -0.0935, -0.0763, -0.0601, -0.1053, -0.1082, -0.2048, -0.0526,\n",
            "        -0.1010, -0.0737, -0.2064, -0.1814, -0.2182, -0.0971, -0.2639, -0.0760,\n",
            "        -0.2099, -0.1902, -0.0949, -0.1644, -0.3239, -0.3148, -0.1179, -0.3368,\n",
            "        -0.0987, -0.2279, -0.0521, -0.3547, -0.0883, -0.1019, -0.1588, -0.2231,\n",
            "        -0.0971, -0.4016, -0.0738, -0.0696, -0.0875, -0.0744, -0.0740, -0.1016,\n",
            "        -0.1756, -0.2194, -0.3818, -0.0892, -0.3568, -0.0912, -0.2065, -0.0711,\n",
            "        -0.0787, -0.2220, -0.1094, -0.1213, -0.0857, -0.1620, -0.0995, -0.0740,\n",
            "        -0.1060, -0.0703, -0.1818, -0.2543, -0.0705, -0.0671, -0.0919, -0.2982,\n",
            "        -0.0713, -0.0999, -0.2216, -0.0774, -0.2723, -0.3089, -0.0960, -0.1241,\n",
            "        -0.3946, -0.2427, -0.1004, -0.0515, -0.2213, -0.3931, -0.0912, -0.0909,\n",
            "        -0.0845, -0.1371, -0.2165, -0.2938, -0.1282, -0.3262, -0.3882, -0.2206,\n",
            "        -0.1033, -0.0788, -0.0906, -0.1008, -0.2022, -0.0762, -0.1813, -0.2133,\n",
            "        -0.0843, -0.1676, -0.2255, -0.0895, -0.1024, -0.3831, -0.2184, -0.2633,\n",
            "        -0.1110, -0.0730, -0.0666, -0.2203, -0.3998, -0.2997, -0.0888, -0.2784,\n",
            "        -0.2817, -0.0824, -0.1044, -0.1201, -0.0943, -0.0926, -0.1304, -0.1333,\n",
            "        -0.1505, -0.2484, -0.3923, -0.1539, -0.1545, -0.1398, -0.0790, -0.0955,\n",
            "        -0.0620, -0.1322, -0.2142, -0.2258, -0.0672, -0.3080, -0.1186, -0.0737,\n",
            "        -0.1013, -0.3032, -0.2207, -0.0963, -0.0849, -0.0800, -0.0488, -0.0989,\n",
            "        -0.2219, -0.1895, -0.3696, -0.0801, -0.3638, -0.2059, -0.1174, -0.1028,\n",
            "        -0.1057, -0.0933, -0.0783, -0.0747, -0.2063, -0.0903, -0.2203, -0.2717,\n",
            "        -0.1128, -0.0733, -0.1398, -0.1786, -0.1009, -0.2077, -0.0680, -0.0775,\n",
            "        -0.1351, -0.0906, -0.2236, -0.2361, -0.0704, -0.1015, -0.0763, -0.0757,\n",
            "        -0.0711, -0.0974, -0.1243, -0.1138, -0.2215, -0.1044, -0.3744, -0.1527,\n",
            "        -0.1016, -0.1851, -0.2210, -0.0815, -0.1022, -0.3990, -0.1006, -0.1910,\n",
            "        -0.1085, -0.0767, -0.2309, -0.0811, -0.1035, -0.1161, -0.2158, -0.1984,\n",
            "        -0.0715, -0.1100, -0.0932, -0.0867, -0.1010, -0.1051, -0.2185, -0.1586,\n",
            "        -0.3479, -0.0556, -0.2061, -0.1028, -0.0562, -0.2826, -0.3272, -0.1276,\n",
            "        -0.0994, -0.3028, -0.1791, -0.0683, -0.3857, -0.1013, -0.2057, -0.0874,\n",
            "        -0.1011, -0.1000, -0.1013, -0.0541, -0.0884, -0.0556, -0.1062, -0.0730,\n",
            "        -0.3631, -0.1061, -0.2319, -0.2244, -0.2456, -0.1165, -0.2126, -0.1068,\n",
            "        -0.0715, -0.1030, -0.1058, -0.0962, -0.3628, -0.1977, -0.1057, -0.0951,\n",
            "        -0.3878, -0.2267, -0.0955, -0.0719, -0.2281, -0.0779, -0.1483, -0.2162,\n",
            "        -0.1395, -0.2118, -0.1017, -0.1993, -0.2601, -0.0898, -0.3322, -0.3575,\n",
            "        -0.0794, -0.2081, -0.1983, -0.2993, -0.1054, -0.0932, -0.2244, -0.1717,\n",
            "        -0.0749, -0.0973, -0.0974, -0.1064, -0.3683, -0.0703, -0.2244, -0.2251,\n",
            "        -0.1344, -0.0787, -0.3930, -0.0761, -0.2207, -0.0992, -0.2203, -0.0762,\n",
            "        -0.0695, -0.0975, -0.2240, -0.3195, -0.3141, -0.0893, -0.2053, -0.0798,\n",
            "        -0.2136, -0.3889, -0.0486, -0.3610, -0.0646, -0.0982, -0.3784, -0.3251,\n",
            "        -0.2952, -0.0671, -0.1009, -0.0978, -0.3850, -0.1051, -0.3561, -0.0708,\n",
            "        -0.3810, -0.1365, -0.0476, -0.0698, -0.0486, -0.0914, -0.1046, -0.2234,\n",
            "        -0.0943, -0.1393, -0.0845, -0.1031, -0.0550, -0.1080, -0.1747, -0.0552,\n",
            "        -0.1048, -0.0657, -0.0664, -0.1267, -0.2448, -0.1548, -0.1086, -0.0911,\n",
            "        -0.1025, -0.0843, -0.2128, -0.2147, -0.2080, -0.1775, -0.0877, -0.0746,\n",
            "        -0.1634, -0.0716, -0.0864, -0.2166, -0.2158, -0.0623, -0.0585, -0.2172,\n",
            "        -0.3016, -0.1203, -0.1138, -0.1844, -0.0798, -0.3224, -0.1034, -0.0788,\n",
            "        -0.0910, -0.1518, -0.0942, -0.1077, -0.3846, -0.3709, -0.1129, -0.0750,\n",
            "        -0.2207, -0.0691, -0.1062, -0.1026, -0.1187, -0.0648, -0.0926, -0.0680,\n",
            "        -0.0913, -0.1767, -0.1023, -0.0792, -0.1802, -0.0697, -0.3836, -0.3293,\n",
            "        -0.1508, -0.2037, -0.1045, -0.2608, -0.1655, -0.1021, -0.0790, -0.2519,\n",
            "        -0.3068, -0.0745, -0.3246, -0.1886, -0.1548, -0.3385, -0.1222, -0.2142,\n",
            "        -0.1524, -0.0732, -0.2070, -0.0886, -0.0549, -0.0853, -0.0970, -0.1986,\n",
            "        -0.1892, -0.1553, -0.1030, -0.2047, -0.3589, -0.0940, -0.0798, -0.3160,\n",
            "        -0.2123, -0.3827, -0.0783, -0.0902, -0.1056, -0.1308, -0.0978, -0.1033,\n",
            "        -0.0763, -0.1143, -0.0775, -0.1826, -0.0606, -0.2249, -0.1192, -0.0715,\n",
            "        -0.1122, -0.2816, -0.0691, -0.1189, -0.1715, -0.1007, -0.1314, -0.1654,\n",
            "        -0.2250, -0.1930, -0.3697, -0.0702, -0.0862, -0.1761, -0.2331, -0.0779,\n",
            "        -0.1246, -0.1036, -0.1969, -0.1590, -0.1032, -0.2209, -0.2120, -0.2357,\n",
            "        -0.2000, -0.0797, -0.0836, -0.1458, -0.0854, -0.0739, -0.0727, -0.0665,\n",
            "        -0.3862, -0.0738, -0.0559, -0.0581, -0.2025, -0.0780, -0.1496, -0.1024,\n",
            "        -0.1013, -0.0775, -0.1041, -0.1742, -0.0914, -0.1096, -0.0734, -0.0614,\n",
            "        -0.3524, -0.0954, -0.3369, -0.1034, -0.3923, -0.1049, -0.1048, -0.0541,\n",
            "        -0.1103, -0.3029, -0.1465, -0.2642, -0.3462, -0.3108, -0.3662, -0.3631,\n",
            "        -0.0950, -0.0970, -0.0702, -0.2346, -0.2269, -0.1930, -0.0553, -0.0770,\n",
            "        -0.0877, -0.0930, -0.0559, -0.0921, -0.0706, -0.0767, -0.0769, -0.2913,\n",
            "        -0.0729, -0.1293, -0.1311, -0.0882, -0.3870, -0.1532, -0.1056, -0.0772,\n",
            "        -0.0537, -0.1613, -0.0648, -0.1375, -0.2077, -0.1298, -0.0933, -0.1372,\n",
            "        -0.2253, -0.2215, -0.2849, -0.1530, -0.1031, -0.3130, -0.0660, -0.0873,\n",
            "        -0.0736, -0.1040, -0.0763, -0.2437, -0.2287, -0.3063, -0.1601, -0.0915,\n",
            "        -0.0756, -0.0796, -0.2042, -0.2153, -0.2148, -0.1394, -0.2192, -0.3348,\n",
            "        -0.0791, -0.0843, -0.0844, -0.1365, -0.1382, -0.2234, -0.0674, -0.3978,\n",
            "        -0.2216, -0.0950, -0.0484, -0.0967, -0.3225, -0.1063, -0.0740, -0.1869,\n",
            "        -0.2198, -0.0981, -0.2712, -0.2089, -0.0646, -0.2235, -0.2567, -0.2772,\n",
            "        -0.0939, -0.0899, -0.0861, -0.2551, -0.0871, -0.0924, -0.3531, -0.0976,\n",
            "        -0.0993, -0.1424, -0.2105, -0.0854, -0.2681, -0.0991, -0.0911, -0.1046,\n",
            "        -0.2239, -0.0670, -0.2035, -0.1742, -0.1017, -0.0566, -0.0855, -0.3960,\n",
            "        -0.1946, -0.2090, -0.0858, -0.1031, -0.2507, -0.0755, -0.0835, -0.0708,\n",
            "        -0.1691, -0.3256, -0.0670, -0.0598, -0.3084, -0.3484, -0.1354, -0.1060,\n",
            "        -0.0913, -0.0631, -0.1671, -0.1435, -0.0828, -0.2775, -0.4072, -0.0982,\n",
            "        -0.0889, -0.0836, -0.2994, -0.3741, -0.2245, -0.1061, -0.1649, -0.0644,\n",
            "        -0.0710, -0.0636, -0.1053, -0.0721, -0.1084, -0.1264, -0.3746, -0.0645,\n",
            "        -0.2201, -0.1890, -0.1055, -0.1026, -0.0686, -0.2161, -0.3837, -0.2137,\n",
            "        -0.0688, -0.1842, -0.1910, -0.1600, -0.1844, -0.1028, -0.3663, -0.2331,\n",
            "        -0.0616, -0.1377, -0.1040, -0.1638, -0.3929, -0.2482, -0.1033, -0.1047,\n",
            "        -0.0950, -0.1295, -0.2851, -0.1492, -0.1778, -0.1542, -0.1158, -0.0757,\n",
            "        -0.0696, -0.1247, -0.0950, -0.2350, -0.3260, -0.1055, -0.1032, -0.0775,\n",
            "        -0.1947, -0.1065, -0.3525, -0.1988, -0.0874, -0.1460, -0.1945, -0.2277,\n",
            "        -0.1797, -0.1145, -0.0868, -0.1128, -0.1008, -0.1918, -0.0719, -0.1237,\n",
            "        -0.0685, -0.1839, -0.0498, -0.0705, -0.0493, -0.0836, -0.2207, -0.3507],\n",
            "       grad_fn=<SqueezeBackward0>)\n",
            "Pred probs:\n",
            "tensor([0., 0., 0., 0., 0., 0., 0., 0., 0., 0., 0., 0., 0., 0., 0., 0., 0., 0., 0., 0., 0., 0., 0., 0.,\n",
            "        0., 0., 0., 0., 0., 0., 0., 0., 0., 0., 0., 0., 0., 0., 0., 0., 0., 0., 0., 0., 0., 0., 0., 0.,\n",
            "        0., 0., 0., 0., 0., 0., 0., 0., 0., 0., 0., 0., 0., 0., 0., 0., 0., 0., 0., 0., 0., 0., 0., 0.,\n",
            "        0., 0., 0., 0., 0., 0., 0., 0., 0., 0., 0., 0., 0., 0., 0., 0., 0., 0., 0., 0., 0., 0., 0., 0.,\n",
            "        0., 0., 0., 0., 0., 0., 0., 0., 0., 0., 0., 0., 0., 0., 0., 0., 0., 0., 0., 0., 0., 0., 0., 0.,\n",
            "        0., 0., 0., 0., 0., 0., 0., 0., 0., 0., 0., 0., 0., 0., 0., 0., 0., 0., 0., 0., 0., 0., 0., 0.,\n",
            "        0., 0., 0., 0., 0., 0., 0., 0., 0., 0., 0., 0., 0., 0., 0., 0., 0., 0., 0., 0., 0., 0., 0., 0.,\n",
            "        0., 0., 0., 0., 0., 0., 0., 0., 0., 0., 0., 0., 0., 0., 0., 0., 0., 0., 0., 0., 0., 0., 0., 0.,\n",
            "        0., 0., 0., 0., 0., 0., 0., 0., 0., 0., 0., 0., 0., 0., 0., 0., 0., 0., 0., 0., 0., 0., 0., 0.,\n",
            "        0., 0., 0., 0., 0., 0., 0., 0., 0., 0., 0., 0., 0., 0., 0., 0., 0., 0., 0., 0., 0., 0., 0., 0.,\n",
            "        0., 0., 0., 0., 0., 0., 0., 0., 0., 0., 0., 0., 0., 0., 0., 0., 0., 0., 0., 0., 0., 0., 0., 0.,\n",
            "        0., 0., 0., 0., 0., 0., 0., 0., 0., 0., 0., 0., 0., 0., 0., 0., 0., 0., 0., 0., 0., 0., 0., 0.,\n",
            "        0., 0., 0., 0., 0., 0., 0., 0., 0., 0., 0., 0., 0., 0., 0., 0., 0., 0., 0., 0., 0., 0., 0., 0.,\n",
            "        0., 0., 0., 0., 0., 0., 0., 0., 0., 0., 0., 0., 0., 0., 0., 0., 0., 0., 0., 0., 0., 0., 0., 0.,\n",
            "        0., 0., 0., 0., 0., 0., 0., 0., 0., 0., 0., 0., 0., 0., 0., 0., 0., 0., 0., 0., 0., 0., 0., 0.,\n",
            "        0., 0., 0., 0., 0., 0., 0., 0., 0., 0., 0., 0., 0., 0., 0., 0., 0., 0., 0., 0., 0., 0., 0., 0.,\n",
            "        0., 0., 0., 0., 0., 0., 0., 0., 0., 0., 0., 0., 0., 0., 0., 0., 0., 0., 0., 0., 0., 0., 0., 0.,\n",
            "        0., 0., 0., 0., 0., 0., 0., 0., 0., 0., 0., 0., 0., 0., 0., 0., 0., 0., 0., 0., 0., 0., 0., 0.,\n",
            "        0., 0., 0., 0., 0., 0., 0., 0., 0., 0., 0., 0., 0., 0., 0., 0., 0., 0., 0., 0., 0., 0., 0., 0.,\n",
            "        0., 0., 0., 0., 0., 0., 0., 0., 0., 0., 0., 0., 0., 0., 0., 0., 0., 0., 0., 0., 0., 0., 0., 0.,\n",
            "        0., 0., 0., 0., 0., 0., 0., 0., 0., 0., 0., 0., 0., 0., 0., 0., 0., 0., 0., 0., 0., 0., 0., 0.,\n",
            "        0., 0., 0., 0., 0., 0., 0., 0., 0., 0., 0., 0., 0., 0., 0., 0., 0., 0., 0., 0., 0., 0., 0., 0.,\n",
            "        0., 0., 0., 0., 0., 0., 0., 0., 0., 0., 0., 0., 0., 0., 0., 0., 0., 0., 0., 0., 0., 0., 0., 0.,\n",
            "        0., 0., 0., 0., 0., 0., 0., 0., 0., 0., 0., 0., 0., 0., 0., 0., 0., 0., 0., 0., 0., 0., 0., 0.,\n",
            "        0., 0., 0., 0., 0., 0., 0., 0., 0., 0., 0., 0., 0., 0., 0., 0., 0., 0., 0., 0., 0., 0., 0., 0.,\n",
            "        0., 0., 0., 0., 0., 0., 0., 0., 0., 0., 0., 0., 0., 0., 0., 0., 0., 0., 0., 0., 0., 0., 0., 0.,\n",
            "        0., 0., 0., 0., 0., 0., 0., 0., 0., 0., 0., 0., 0., 0., 0., 0., 0., 0., 0., 0., 0., 0., 0., 0.,\n",
            "        0., 0., 0., 0., 0., 0., 0., 0., 0., 0., 0., 0., 0., 0., 0., 0., 0., 0., 0., 0., 0., 0., 0., 0.,\n",
            "        0., 0., 0., 0., 0., 0., 0., 0., 0., 0., 0., 0., 0., 0., 0., 0., 0., 0., 0., 0., 0., 0., 0., 0.,\n",
            "        0., 0., 0., 0., 0., 0., 0., 0., 0., 0., 0., 0., 0., 0., 0., 0., 0., 0., 0., 0., 0., 0., 0., 0.,\n",
            "        0., 0., 0., 0., 0., 0., 0., 0., 0., 0., 0., 0., 0., 0., 0., 0., 0., 0., 0., 0., 0., 0., 0., 0.,\n",
            "        0., 0., 0., 0., 0., 0., 0., 0., 0., 0., 0., 0., 0., 0., 0., 0., 0., 0., 0., 0., 0., 0., 0., 0.,\n",
            "        0., 0., 0., 0., 0., 0., 0., 0., 0., 0., 0., 0., 0., 0., 0., 0., 0., 0., 0., 0., 0., 0., 0., 0.,\n",
            "        0., 0., 0., 0., 0., 0., 0., 0.], grad_fn=<RoundBackward0>)\n",
            "Pred labels:\n"
          ]
        }
      ],
      "source": [
        "# What's coming out of our model?\n",
        "untrained_logits = model_v0(x_train).squeeze()\n",
        "# logits (raw outputs of model)\n",
        "print(\"Logits: \",untrained_logits)\n",
        "## Your code here ##\n",
        "\n",
        "# Prediction probabilities\n",
        "print(\"Pred probs:\")\n",
        "## Your code here ##\n",
        "untrained_pred = torch.round(torch.sigmoid(untrained_logits))\n",
        "\n",
        "print(untrained_pred)\n",
        "# Prediction labels\n",
        "print(\"Pred labels:\")\n",
        "## Your code here ##"
      ]
    },
    {
      "cell_type": "code",
      "execution_count": 54,
      "metadata": {
        "id": "rUSDNHB4euoJ"
      },
      "outputs": [
        {
          "name": "stdout",
          "output_type": "stream",
          "text": [
            "\n",
            "\u001b[1m[\u001b[0m\u001b[34;49mnotice\u001b[0m\u001b[1;39;49m]\u001b[0m\u001b[39;49m A new release of pip available: \u001b[0m\u001b[31;49m22.3.1\u001b[0m\u001b[39;49m -> \u001b[0m\u001b[32;49m25.2\u001b[0m\n",
            "\u001b[1m[\u001b[0m\u001b[34;49mnotice\u001b[0m\u001b[1;39;49m]\u001b[0m\u001b[39;49m To update, run: \u001b[0m\u001b[32;49mpip install --upgrade pip\u001b[0m\n"
          ]
        },
        {
          "data": {
            "text/plain": [
              "MulticlassAccuracy()"
            ]
          },
          "execution_count": 54,
          "metadata": {},
          "output_type": "execute_result"
        }
      ],
      "source": [
        "# Let's calculuate the accuracy using accuracy from TorchMetrics\n",
        "!pip -q install torchmetrics # Colab doesn't come with torchmetrics\n",
        "from torchmetrics import Accuracy\n",
        "\n",
        "## TODO: Uncomment this code to use the Accuracy function\n",
        "acc_fn = Accuracy(task=\"multiclass\", num_classes=2).to(\"cpu\") # send accuracy function to device\n",
        "acc_fn"
      ]
    },
    {
      "cell_type": "code",
      "execution_count": 156,
      "metadata": {
        "id": "SHBY3h7XXnxt"
      },
      "outputs": [
        {
          "name": "stdout",
          "output_type": "stream",
          "text": [
            "Epoch: 0 | Loss: 0.71197, Accuracy: 0.5 | Test Loss: 0.70824, Test Accuracy: 0.5\n",
            "Epoch: 100 | Loss: 0.71197, Accuracy: 0.5 | Test Loss: 0.70824, Test Accuracy: 0.5\n",
            "Epoch: 200 | Loss: 0.71197, Accuracy: 0.5 | Test Loss: 0.70824, Test Accuracy: 0.5\n",
            "Epoch: 300 | Loss: 0.71197, Accuracy: 0.5 | Test Loss: 0.70824, Test Accuracy: 0.5\n",
            "Epoch: 400 | Loss: 0.71197, Accuracy: 0.5 | Test Loss: 0.70824, Test Accuracy: 0.5\n",
            "Epoch: 500 | Loss: 0.71197, Accuracy: 0.5 | Test Loss: 0.70824, Test Accuracy: 0.5\n",
            "Epoch: 600 | Loss: 0.71197, Accuracy: 0.5 | Test Loss: 0.70824, Test Accuracy: 0.5\n",
            "Epoch: 700 | Loss: 0.71197, Accuracy: 0.5 | Test Loss: 0.70824, Test Accuracy: 0.5\n",
            "Epoch: 800 | Loss: 0.71197, Accuracy: 0.5 | Test Loss: 0.70824, Test Accuracy: 0.5\n",
            "Epoch: 900 | Loss: 0.71197, Accuracy: 0.5 | Test Loss: 0.70824, Test Accuracy: 0.5\n"
          ]
        }
      ],
      "source": [
        "## TODO: Uncomment this to set the seed\n",
        "# torch.manual_seed(RANDOM_SEED)\n",
        "torch.manual_seed(42)\n",
        "# Setup epochs\n",
        "epochs = 1000\n",
        "\n",
        "# Send data to the \"cpu\"\n",
        "x_train, y_train = x_train.to(\"cpu\"), y_train.to(\"cpu\")\n",
        "x_test, y_test = x_test.to(\"cpu\"), y_test.to(\"cpu\")\n",
        "\n",
        "\n",
        "# Loop through the data\n",
        "for epoch in range(epochs):\n",
        "  ### Training\n",
        "    model_v0.train()\n",
        "\n",
        "    # 1. Forward pass (logits output)\n",
        "\n",
        "    # Turn logits into prediction probabilities\n",
        "    y_logits = model_v0(x_train.to(\"cpu\")).squeeze()\n",
        "\n",
        "    # Turn prediction probabilities into prediction labels\n",
        "    y_pred = torch.round(torch.sigmoid(y_logits))\n",
        "\n",
        "    # 2. Calculaute the loss\n",
        "    # loss = loss_fn(y_logits, y_train) # loss = compare model raw outputs to desired model outputs\n",
        "    loss = loss_fn(y_logits, y_train.to(\"cpu\"))\n",
        "    # Calculate the accuracy\n",
        "    acc = acc_fn(y_pred, y_train.int()) # the accuracy function needs to compare pred labels (not logits) with actual labels\n",
        "\n",
        "    # 3. Zero the gradients\n",
        "    optimiser.zero_grad()\n",
        "\n",
        "    # 4. Loss backward (perform backpropagation) - https://brilliant.org/wiki/backpropagation/#:~:text=Backpropagation%2C%20short%20for%20%22backward%20propagation,to%20the%20neural%20network's%20weights.\n",
        "    loss.backward()\n",
        "    # 5. Step the optimizer (gradient descent) - https://towardsdatascience.com/gradient-descent-algorithm-a-deep-dive-cf04e8115f21#:~:text=Gradient%20descent%20(GD)%20is%20an,e.g.%20in%20a%20linear%20regression) \n",
        "    optimiser.step()\n",
        "\n",
        "    ### Testing\n",
        "    model_v0.eval() \n",
        "    with torch.inference_mode():\n",
        "      # 1. Forward pass (to get the logits)\n",
        "      test_logits = model_v0(x_test).squeeze()\n",
        "      # Turn the test logits into prediction labels\n",
        "      test_pred = torch.round(torch.sigmoid(test_logits))\n",
        "\n",
        "      # 2. Caculate the test loss/acc\n",
        "      test_loss = loss_fn(test_logits, y_test)\n",
        "      test_acc = acc_fn(test_pred, y_test.int())\n",
        "\n",
        "    # Print out what's happening every 100 epochs\n",
        "    if epoch % 100 == 0:\n",
        "      print(f\"Epoch: {epoch} | Loss: {loss:.5f}, Accuracy: {acc:} | Test Loss: {test_loss:.5f}, Test Accuracy: {test_acc:}\")\n",
        "      "
      ]
    },
    {
      "cell_type": "markdown",
      "metadata": {
        "id": "8Nwihtomj9JO"
      },
      "source": [
        "## 5. Make predictions with your trained model and plot them using the `plot_decision_boundary()` function created in this notebook."
      ]
    },
    {
      "cell_type": "code",
      "execution_count": 152,
      "metadata": {
        "id": "0YRzatb8a1P2"
      },
      "outputs": [],
      "source": [
        "# Plot the model predictions\n",
        "import numpy as np\n",
        "\n",
        "def plot_decision_boundary(model, X, y):\n",
        "  \n",
        "    # Put everything to CPU (works better with NumPy + Matplotlib)\n",
        "    model.to(\"cpu\")\n",
        "    X, y = X.to(\"cpu\"), y.to(\"cpu\")\n",
        "\n",
        "    # Source - https://madewithml.com/courses/foundations/neural-networks/ \n",
        "    # (with modifications)\n",
        "    x_min, x_max = X[:, 0].min() - 0.1, X[:, 0].max() + 0.1\n",
        "    y_min, y_max = X[:, 1].min() - 0.1, X[:, 1].max() + 0.1\n",
        "    xx, yy = np.meshgrid(np.linspace(x_min, x_max, 101), \n",
        "                         np.linspace(y_min, y_max, 101))\n",
        "\n",
        "    # Make features\n",
        "    X_to_pred_on = torch.from_numpy(np.column_stack((xx.ravel(), yy.ravel()))).float()\n",
        "\n",
        "    # Make predictions\n",
        "    model.eval()\n",
        "    with torch.inference_mode():\n",
        "        y_logits = model(X_to_pred_on)\n",
        "\n",
        "    # Test for multi-class or binary and adjust logits to prediction labels\n",
        "    if len(torch.unique(y)) > 2:\n",
        "        y_pred = torch.softmax(y_logits, dim=1).argmax(dim=1) # mutli-class\n",
        "    else: \n",
        "        y_pred = torch.round(torch.sigmoid(y_logits)) # binary\n",
        "    \n",
        "    # Reshape preds and plot\n",
        "    y_pred = y_pred.reshape(xx.shape).detach().numpy()\n",
        "    plt.contourf(xx, yy, y_pred, cmap=plt.cm.RdYlBu, alpha=0.7)\n",
        "    plt.scatter(X[:, 0], X[:, 1], c=y, s=40, cmap=plt.cm.RdYlBu)\n",
        "    plt.xlim(xx.min(), xx.max())\n",
        "    plt.ylim(yy.min(), yy.max())"
      ]
    },
    {
      "cell_type": "code",
      "execution_count": 153,
      "metadata": {
        "id": "PMrcpyirig1d"
      },
      "outputs": [
        {
          "data": {
            "image/png": "[encoded data removed]",
            "text/plain": [
              "<Figure size 640x480 with 1 Axes>"
            ]
          },
          "metadata": {},
          "output_type": "display_data"
        }
      ],
      "source": [
        "# Plot decision boundaries for training and test sets\n",
        "plot_decision_boundary(model = model_v0, X = x_moons, y =y_moons)"
      ]
    },
    {
      "cell_type": "markdown",
      "metadata": {
        "id": "EtMYBvtciiAU"
      },
      "source": [
        "## 6. Replicate the Tanh (hyperbolic tangent) activation function in pure PyTorch.\n",
        "  * Feel free to reference the [ML cheatsheet website](https://ml-cheatsheet.readthedocs.io/en/latest/activation_functions.html#tanh) for the formula."
      ]
    },
    {
      "cell_type": "code",
      "execution_count": 13,
      "metadata": {
        "id": "BlXaWC5TkEUE"
      },
      "outputs": [],
      "source": [
        "# Create a straight line tensor\n"
      ]
    },
    {
      "cell_type": "code",
      "execution_count": 14,
      "metadata": {
        "id": "vZPCcQmIkZjO"
      },
      "outputs": [],
      "source": [
        "# Test torch.tanh() on the tensor and plot it\n"
      ]
    },
    {
      "cell_type": "code",
      "execution_count": 15,
      "metadata": {
        "id": "J-ne__Kjkdc1"
      },
      "outputs": [],
      "source": [
        "# Replicate torch.tanh() and plot it\n"
      ]
    },
    {
      "cell_type": "markdown",
      "metadata": {
        "id": "Lbt1bNcWk5G9"
      },
      "source": [
        "## 7. Create a multi-class dataset using the [spirals data creation function from CS231n](https://cs231n.github.io/neural-networks-case-study/) (see below for the code).\n",
        "  * Split the data into training and test sets (80% train, 20% test) as well as turn it into PyTorch tensors.\n",
        "  * Construct a model capable of fitting the data (you may need a combination of linear and non-linear layers).\n",
        "  * Build a loss function and optimizer capable of handling multi-class data (optional extension: use the Adam optimizer instead of SGD, you may have to experiment with different values of the learning rate to get it working).\n",
        "  * Make a training and testing loop for the multi-class data and train a model on it to reach over 95% testing accuracy (you can use any accuracy measuring function here that you like) - 1000 epochs should be plenty.\n",
        "  * Plot the decision boundaries on the spirals dataset from your model predictions, the `plot_decision_boundary()` function should work for this dataset too."
      ]
    },
    {
      "cell_type": "code",
      "execution_count": 16,
      "metadata": {
        "colab": {
          "base_uri": "https://localhost:8080/",
          "height": 265
        },
        "id": "tU-UNZsKlJls",
        "outputId": "8b7b745a-070d-4ecb-c639-c4ee4d8eae06"
      },
      "outputs": [
        {
          "data": {
            "image/png": "[encoded data removed]",
            "text/plain": [
              "<Figure size 432x288 with 1 Axes>"
            ]
          },
          "metadata": {
            "needs_background": "light"
          },
          "output_type": "display_data"
        }
      ],
      "source": [
        "# Code for creating a spiral dataset from CS231n\n",
        "import numpy as np\n",
        "import matplotlib.pyplot as plt\n",
        "RANDOM_SEED = 42\n",
        "np.random.seed(RANDOM_SEED)\n",
        "N = 100 # number of points per class\n",
        "D = 2 # dimensionality\n",
        "K = 3 # number of classes\n",
        "X = np.zeros((N*K,D)) # data matrix (each row = single example)\n",
        "y = np.zeros(N*K, dtype='uint8') # class labels\n",
        "for j in range(K):\n",
        "  ix = range(N*j,N*(j+1))\n",
        "  r = np.linspace(0.0,1,N) # radius\n",
        "  t = np.linspace(j*4,(j+1)*4,N) + np.random.randn(N)*0.2 # theta\n",
        "  X[ix] = np.c_[r*np.sin(t), r*np.cos(t)]\n",
        "  y[ix] = j\n",
        "# lets visualize the data\n",
        "plt.scatter(X[:, 0], X[:, 1], c=y, s=40, cmap=plt.cm.RdYlBu)\n",
        "plt.show()"
      ]
    },
    {
      "cell_type": "code",
      "execution_count": 17,
      "metadata": {
        "id": "OWVrmkEyl0VP"
      },
      "outputs": [],
      "source": [
        "# Turn data into tensors\n",
        "import torch\n",
        "X = torch.from_numpy(X).type(torch.float) # features as float32\n",
        "y = torch.from_numpy(y).type(torch.LongTensor) # labels need to be of type long\n",
        "\n",
        "# Create train and test splits\n",
        "from sklearn.model_selection import train_test_split\n"
      ]
    },
    {
      "cell_type": "code",
      "execution_count": 18,
      "metadata": {
        "id": "a-v-7f0op0tG"
      },
      "outputs": [],
      "source": [
        "# Let's calculuate the accuracy for when we fit our model\n",
        "!pip -q install torchmetrics # colab doesn't come with torchmetrics\n",
        "from torchmetrics import Accuracy\n",
        "\n",
        "## TODO: uncomment the two lines below to send the accuracy function to the device\n",
        "# acc_fn = Accuracy(task=\"multiclass\", num_classes=4).to(device)\n",
        "# acc_fn"
      ]
    },
    {
      "cell_type": "code",
      "execution_count": 19,
      "metadata": {
        "id": "DB3u3ldumapf"
      },
      "outputs": [],
      "source": [
        "# Prepare device agnostic code\n",
        "# device = \"cuda\" if torch.cuda.is_available() else \"cpu\"\n",
        "\n",
        "# Create model by subclassing nn.Module\n",
        "\n",
        "\n",
        "\n",
        "# Instantiate model and send it to device\n"
      ]
    },
    {
      "cell_type": "code",
      "execution_count": 20,
      "metadata": {
        "colab": {
          "base_uri": "https://localhost:8080/"
        },
        "id": "QE7XWSSunMTS",
        "outputId": "00b31909-87c9-41e3-9dbb-fb4c4bd3aabd"
      },
      "outputs": [
        {
          "name": "stdout",
          "output_type": "stream",
          "text": [
            "Logits:\n",
            "Pred probs:\n",
            "Pred labels:\n"
          ]
        }
      ],
      "source": [
        "# Setup data to be device agnostic\n",
        "\n",
        "\n",
        "# Print out first 10 untrained model outputs (forward pass)\n",
        "print(\"Logits:\")\n",
        "## Your code here ##\n",
        "\n",
        "print(\"Pred probs:\")\n",
        "## Your code here ##\n",
        "\n",
        "print(\"Pred labels:\")\n",
        "## Your code here ##"
      ]
    },
    {
      "cell_type": "code",
      "execution_count": 21,
      "metadata": {
        "id": "54EqLRKLo0AW"
      },
      "outputs": [],
      "source": [
        "# Setup loss function and optimizer\n",
        "# loss_fn =\n",
        "# optimizer = "
      ]
    },
    {
      "cell_type": "code",
      "execution_count": 22,
      "metadata": {
        "id": "vIlExkUHnmxi"
      },
      "outputs": [],
      "source": [
        "# Build a training loop for the model\n",
        "\n",
        "# Loop over data\n",
        "\n",
        "\n",
        "  ## Training\n",
        "  \n",
        "  # 1. Forward pass\n",
        "  \n",
        "\n",
        "  # 2. Calculate the loss\n",
        "  \n",
        "  \n",
        "  # 3. Optimizer zero grad\n",
        "  \n",
        "\n",
        "  # 4. Loss backward\n",
        "  \n",
        "\n",
        "  # 5. Optimizer step\n",
        "  \n",
        "\n",
        "  ## Testing\n",
        "  \n",
        "\n",
        "    # 1. Forward pass\n",
        "    \n",
        "    # 2. Caculate loss and acc\n",
        "    \n",
        "  # Print out what's happening every 100 epochs\n",
        "  "
      ]
    },
    {
      "cell_type": "code",
      "execution_count": 23,
      "metadata": {
        "id": "JrwVRbaE0keT"
      },
      "outputs": [],
      "source": [
        "# Plot decision boundaries for training and test sets\n"
      ]
    }
  ],
  "metadata": {
    "accelerator": "GPU",
    "colab": {
      "authorship_tag": "ABX9TyNloicnciRwCXd2bJo6F2iS",
      "collapsed_sections": [],
      "include_colab_link": true,
      "name": "02_pytorch_classification_exercises.ipynb",
      "provenance": []
    },
    "kernelspec": {
      "display_name": "myvenv",
      "language": "python",
      "name": "python3"
    },
    "language_info": {
      "codemirror_mode": {
        "name": "ipython",
        "version": 3
      },
      "file_extension": ".py",
      "mimetype": "text/x-python",
      "name": "python",
      "nbconvert_exporter": "python",
      "pygments_lexer": "ipython3",
      "version": "3.11.2"
    }
  },
  "nbformat": 4,
  "nbformat_minor": 0
}
