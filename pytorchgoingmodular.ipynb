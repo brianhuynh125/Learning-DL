{
 "cells": [
  {
   "cell_type": "markdown",
   "id": "f00b412d",
   "metadata": {},
   "source": [
    "### What is going Modular\n",
    "\n",
    "To turn notebook code into a series of different python script\n",
    "\n",
    "a file to prepare and download data if needed\n",
    "a file containing various training functions\n",
    "a file to create a PyTorch model\n",
    "a file to levearege all other files and train a target model\n",
    "a file dedicated to helpful utility function\n",
    "\n",
    "In the wild, the code might be like this:\n",
    "python train.py --model MODEL_NAME --batch_size BATCH_SIZE --lr LEARNING_RATE --num_epochs NUM_EPOCHS"
   ]
  },
  {
   "cell_type": "markdown",
   "id": "14232321",
   "metadata": {},
   "source": []
  }
 ],
 "metadata": {
  "kernelspec": {
   "display_name": "myvenv",
   "language": "python",
   "name": "python3"
  },
  "language_info": {
   "name": "python",
   "version": "3.11.2"
  }
 },
 "nbformat": 4,
 "nbformat_minor": 5
}
