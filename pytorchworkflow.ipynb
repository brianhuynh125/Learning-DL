{
 "cells": [
  {
   "cell_type": "code",
   "execution_count": 1,
   "id": "c2ee64e9",
   "metadata": {},
   "outputs": [],
   "source": [
    "import torch"
   ]
  },
  {
   "cell_type": "code",
   "execution_count": 2,
   "id": "1daf8154",
   "metadata": {},
   "outputs": [],
   "source": [
    "#Create *known* params\n",
    "weight = 0.7\n",
    "bias = 0.3\n",
    "\n",
    "#Create some data\n",
    "start = 0\n",
    "end = 20\n",
    "step = 0.02\n",
    "X = torch.arange(start,end,step).unsqueeze(dim = 1)\n",
    "Y = weight * X + bias"
   ]
  },
  {
   "cell_type": "code",
   "execution_count": 3,
   "id": "4e260cea",
   "metadata": {},
   "outputs": [
    {
     "data": {
      "text/plain": [
       "(tensor([[0.0000],\n",
       "         [0.0200],\n",
       "         [0.0400],\n",
       "         [0.0600],\n",
       "         [0.0800],\n",
       "         [0.1000],\n",
       "         [0.1200],\n",
       "         [0.1400],\n",
       "         [0.1600],\n",
       "         [0.1800]]),\n",
       " tensor([[0.3000],\n",
       "         [0.3140],\n",
       "         [0.3280],\n",
       "         [0.3420],\n",
       "         [0.3560],\n",
       "         [0.3700],\n",
       "         [0.3840],\n",
       "         [0.3980],\n",
       "         [0.4120],\n",
       "         [0.4260]]))"
      ]
     },
     "execution_count": 3,
     "metadata": {},
     "output_type": "execute_result"
    }
   ],
   "source": [
    "X[:10],Y[:10]"
   ]
  },
  {
   "cell_type": "code",
   "execution_count": 4,
   "id": "b37338b2",
   "metadata": {},
   "outputs": [],
   "source": [
    "#Create Train/Test Split\n",
    "train_split = int(0.7 * len(X)) #roughly 70% of data will be for training\n",
    "X_train, Y_train = X[:train_split],Y[:train_split]\n",
    "\n",
    "X_test, Y_test = X[train_split:],Y[train_split:]\n"
   ]
  },
  {
   "cell_type": "code",
   "execution_count": 5,
   "id": "836e21fd",
   "metadata": {},
   "outputs": [],
   "source": [
    "import matplotlib.pyplot as plt"
   ]
  },
  {
   "cell_type": "code",
   "execution_count": 38,
   "id": "584bcc2d",
   "metadata": {},
   "outputs": [],
   "source": [
    "def plot_predictions(X_train = X_train, Y_train = Y_train, X_test = X_test, Y_test = Y_test, predictions = None):\n",
    "    plt.figure()\n",
    "    plt.scatter(X_train, Y_train, c = \"b\", s = 4, label = \"Training data\")\n",
    "    plt.scatter(X_test, Y_test, c=\"g\", s= 4, label = \"Testing data\")\n",
    "\n",
    "    if predictions is not None:\n",
    "        plt.scatter(X_test, predictions, c = \"r\",s = 4, label = \"Predictions\")\n",
    "\n",
    "    plt.legend()"
   ]
  },
  {
   "cell_type": "code",
   "execution_count": 7,
   "id": "a32b76c2",
   "metadata": {},
   "outputs": [
    {
     "data": {
      "image/png": "[encoded data removed]",
      "text/plain": [
       "<Figure size 640x480 with 1 Axes>"
      ]
     },
     "metadata": {},
     "output_type": "display_data"
    }
   ],
   "source": [
    "plot_predictions()"
   ]
  },
  {
   "cell_type": "code",
   "execution_count": 25,
   "id": "9a3c81a0",
   "metadata": {},
   "outputs": [],
   "source": [
    "from torch import nn as nn #\n",
    "#Let's build a Linear Reg model class\n",
    "class LinearRegressionModel(nn.Module): #nn.Module is the base class for all NN modules\n",
    "    def __init__(self):\n",
    "        super().__init__()\n",
    "        self.weights = nn.Parameter(torch.randn(1), requires_grad = True) #Set this param to True since we want to update this nn's parameter using gradient descent\n",
    "        self.bias = nn.Parameter(torch.randn(1), requires_grad = True) #Same thing with bias\n",
    "\n",
    "    def forward(self, x):\n",
    "        return self.weights * x + self.bias #Linear reg formula"
   ]
  },
  {
   "cell_type": "markdown",
   "id": "771144ba",
   "metadata": {},
   "source": [
    "## Some Pytorch model building essentials"
   ]
  },
  {
   "cell_type": "markdown",
   "id": "8ad6af6c",
   "metadata": {},
   "source": [
    "# torch.nn \n",
    "Contains all of the building blocks for computational graphs\n",
    "\n",
    "# torch.nn.Module\n",
    "The base class for all neural network modules\n",
    "\n",
    "# torch.nn.Parameter\n",
    "Storage of tensors taht can be sued with nn.Module. If 'require_grad = True' gradients are calculated automatically.\n",
    "\n",
    "# torch.optim\n",
    "Contains various optimisation algorithms, or learning rate....\n",
    "\n",
    "# def forward()\n",
    "Defines the computation that will take place on the data passed to the nn.Module"
   ]
  },
  {
   "cell_type": "markdown",
   "id": "118b7e26",
   "metadata": {},
   "source": [
    "So in this case of Linear Regression, the tensors/params/variables need to be updated/estimate is the weight and bias of the equation, and the computation in the forward() method is just the entire linear regression"
   ]
  },
  {
   "cell_type": "code",
   "execution_count": 94,
   "id": "b3a227ed",
   "metadata": {},
   "outputs": [],
   "source": [
    "#Let run an example\n",
    "\n",
    "torch.manual_seed(120504) #Any see of your choice\n",
    "\n",
    "model_0 = LinearRegressionModel()"
   ]
  },
  {
   "cell_type": "code",
   "execution_count": 95,
   "id": "e8835694",
   "metadata": {},
   "outputs": [
    {
     "data": {
      "text/plain": [
       "[Parameter containing:\n",
       " tensor([1.5266], requires_grad=True),\n",
       " Parameter containing:\n",
       " tensor([-0.1108], requires_grad=True)]"
      ]
     },
     "execution_count": 95,
     "metadata": {},
     "output_type": "execute_result"
    }
   ],
   "source": [
    "list(model_0.parameters())"
   ]
  },
  {
   "cell_type": "code",
   "execution_count": 96,
   "id": "dc100ba0",
   "metadata": {},
   "outputs": [
    {
     "data": {
      "text/plain": [
       "OrderedDict([('weights', tensor([1.5266])), ('bias', tensor([-0.1108]))])"
      ]
     },
     "execution_count": 96,
     "metadata": {},
     "output_type": "execute_result"
    }
   ],
   "source": [
    "model_0.state_dict()"
   ]
  },
  {
   "cell_type": "code",
   "execution_count": 97,
   "id": "0fca460e",
   "metadata": {},
   "outputs": [],
   "source": [
    "#We can now make some predictions using torch.inference_mode()\n",
    "\n",
    "with torch.inference_mode():\n",
    "    y_preds = model_0(X_test)"
   ]
  },
  {
   "cell_type": "code",
   "execution_count": 98,
   "id": "580c8373",
   "metadata": {},
   "outputs": [
    {
     "name": "stdout",
     "output_type": "stream",
     "text": [
      "Number of testing samples:  300\n",
      "Number of predictions made:  300\n"
     ]
    }
   ],
   "source": [
    "print(\"Number of testing samples: \", len(X_test))\n",
    "print(\"Number of predictions made: \", len(y_preds))"
   ]
  },
  {
   "cell_type": "code",
   "execution_count": 99,
   "id": "27d718bb",
   "metadata": {},
   "outputs": [
    {
     "data": {
      "image/png": "[encoded data removed]",
      "text/plain": [
       "<Figure size 640x480 with 1 Axes>"
      ]
     },
     "metadata": {},
     "output_type": "display_data"
    }
   ],
   "source": [
    "plot_predictions(predictions = y_preds)"
   ]
  },
  {
   "cell_type": "code",
   "execution_count": 40,
   "id": "071050e7",
   "metadata": {},
   "outputs": [],
   "source": [
    "# We can see without training, the esimated relationship is so bad"
   ]
  },
  {
   "cell_type": "markdown",
   "id": "76b20b2f",
   "metadata": {},
   "source": [
    "# Train model\n",
    "\n",
    "We need to define loss function see torch.nn and optimiser see torch.optim\n"
   ]
  },
  {
   "cell_type": "code",
   "execution_count": 105,
   "id": "7f30088f",
   "metadata": {},
   "outputs": [],
   "source": [
    "#Create a list of the 3 lost function: MAE, MSE and NLLoss\n",
    "\n",
    "MAE_loss = nn.L1Loss()\n",
    "MSE_loss = nn.MSELoss()\n",
    "NegLog_loss = nn.NLLLoss()\n",
    "loss_fn_lst = [MAE_loss, MSE_loss, NegLog_loss]"
   ]
  },
  {
   "cell_type": "code",
   "execution_count": 104,
   "id": "444aa793",
   "metadata": {},
   "outputs": [],
   "source": [
    "#Create several optimiser as well: Adam, SGD and Rprop\n",
    "Adam_opt = torch.optim.Adam(params = model_0.parameters(), lr = 0.01)\n",
    "SGD_opt = torch.optim.SGD(params = model_0.parameters(), lr = 0.01)\n",
    "Rprop_opt = torch.optim.Rprop(params = model_0.parameters(), lr = 0.01)\n",
    "optimiser_list = [Adam_opt, SGD_opt, Rprop_opt]"
   ]
  },
  {
   "cell_type": "code",
   "execution_count": null,
   "id": "e94d323f",
   "metadata": {},
   "outputs": [],
   "source": [
    "#Let's start training the model for 100 epochs\n",
    "def let_s_train(model_0 = model_0, X_train = X_train, loss_fn = None, optimiser = None, Y_train = Y_train, X_test= X_test, Y_test = Y_test ):\n",
    "    torch.manual_seed(120504)\n",
    "\n",
    "    epochs = 180 #The model will pass oever the training data 100 time\n",
    "\n",
    "    #Create empty loss lists to track values\n",
    "\n",
    "    train_lost_values = []\n",
    "    test_lost_values = []\n",
    "    epoch_count = []\n",
    "\n",
    "    for epoch in range(epochs):\n",
    "        ###Training\n",
    "        \n",
    "        #put model in the training mode\n",
    "        model_0.train()\n",
    "        \n",
    "        y_pred = model_0(X_train)\n",
    "        \n",
    "        #calulate the loss\n",
    "        loss = loss_fn(y_pred,Y_train)\n",
    "        \n",
    "        #zero grad of the optimiser\n",
    "        optimiser.zero_grad()\n",
    "        \n",
    "        #loss.backwards\n",
    "        loss.backward()\n",
    "        \n",
    "        optimiser.step()\n",
    "        \n",
    "        ###Testing\n",
    "        \n",
    "        model_0.eval()\n",
    "        \n",
    "        with torch.inference_mode():\n",
    "            test_pred = model_0(X_test)\n",
    "            \n",
    "            test_loss = loss_fn(test_pred, Y_test.type(torch.float))\n",
    "            \n",
    "            if epoch %10 == 0:\n",
    "                epoch_count.append(epoch)\n",
    "                train_lost_values.append(loss.detach().numpy())\n",
    "                test_lost_values.append(test_loss.detach().numpy())\n",
    "                print(f\"Epoch: {epoch} | Train Loss: {loss} | Test Loss: {test_loss}\")\n",
    "                \n",
    "    plt.plot(epoch_count, train_lost_values, label=\"Train loss\")\n",
    "    plt.plot(epoch_count, test_loss_values, label=\"Test loss\")\n",
    "    plt.title(\"Training and test loss curves\")\n",
    "    plt.ylabel(\"Loss\")\n",
    "    plt.xlabel(\"Epochs\")\n",
    "    plt.legend();\n",
    "    \n",
    "    "
   ]
  },
  {
   "cell_type": "code",
   "execution_count": 107,
   "id": "7fa80201",
   "metadata": {},
   "outputs": [
    {
     "name": "stdout",
     "output_type": "stream",
     "text": [
      "Epoch: 0 | Train Loss: 5.382454872131348 | Test Loss: 13.453587532043457\n",
      "Epoch: 10 | Train Loss: 4.59480619430542 | Test Loss: 11.65489387512207\n",
      "Epoch: 20 | Train Loss: 3.8139264583587646 | Test Loss: 9.858046531677246\n",
      "Epoch: 30 | Train Loss: 3.0444388389587402 | Test Loss: 8.065948486328125\n",
      "Epoch: 40 | Train Loss: 2.2947988510131836 | Test Loss: 6.284268856048584\n",
      "Epoch: 50 | Train Loss: 1.5823229551315308 | Test Loss: 4.525606155395508\n",
      "Epoch: 60 | Train Loss: 0.9483478665351868 | Test Loss: 2.823214054107666\n",
      "Epoch: 70 | Train Loss: 0.5075107216835022 | Test Loss: 1.2899088859558105\n",
      "Epoch: 80 | Train Loss: 0.4636112451553345 | Test Loss: 0.39489874243736267\n",
      "Epoch: 90 | Train Loss: 0.41398102045059204 | Test Loss: 0.6501208543777466\n"
     ]
    },
    {
     "data": {
      "image/png": "[encoded data removed]",
      "text/plain": [
       "<Figure size 640x480 with 1 Axes>"
      ]
     },
     "metadata": {},
     "output_type": "display_data"
    }
   ],
   "source": [
    "let_s_train(loss_fn = loss_fn_lst[0], optimiser = optimiser_list[0])"
   ]
  },
  {
   "cell_type": "code",
   "execution_count": 108,
   "id": "b18f5dfc",
   "metadata": {},
   "outputs": [
    {
     "name": "stdout",
     "output_type": "stream",
     "text": [
      "The model learned the following values for weights and bias:\n",
      "OrderedDict([('weights', tensor([0.8059])), ('bias', tensor([-0.6249]))])\n",
      "\n",
      "And the original values for weights and bias are:\n",
      "weights: 0.7, bias: 0.3\n"
     ]
    }
   ],
   "source": [
    "print(\"The model learned the following values for weights and bias:\")\n",
    "print(model_0.state_dict())\n",
    "print(\"\\nAnd the original values for weights and bias are:\")\n",
    "print(f\"weights: {weight}, bias: {bias}\")\n"
   ]
  },
  {
   "cell_type": "code",
   "execution_count": 109,
   "id": "b14ec4fd",
   "metadata": {},
   "outputs": [
    {
     "data": {
      "text/plain": [
       "LinearRegressionModel()"
      ]
     },
     "execution_count": 109,
     "metadata": {},
     "output_type": "execute_result"
    }
   ],
   "source": [
    "model_0.eval()"
   ]
  },
  {
   "cell_type": "code",
   "execution_count": 110,
   "id": "fe94c6c9",
   "metadata": {},
   "outputs": [
    {
     "data": {
      "text/plain": [
       "tensor([[10.6576],\n",
       "        [10.6737],\n",
       "        [10.6898],\n",
       "        [10.7059],\n",
       "        [10.7220],\n",
       "        [10.7381],\n",
       "        [10.7543],\n",
       "        [10.7704],\n",
       "        [10.7865],\n",
       "        [10.8026],\n",
       "        [10.8187],\n",
       "        [10.8349],\n",
       "        [10.8510],\n",
       "        [10.8671],\n",
       "        [10.8832],\n",
       "        [10.8993],\n",
       "        [10.9154],\n",
       "        [10.9316],\n",
       "        [10.9477],\n",
       "        [10.9638],\n",
       "        [10.9799],\n",
       "        [10.9960],\n",
       "        [11.0122],\n",
       "        [11.0283],\n",
       "        [11.0444],\n",
       "        [11.0605],\n",
       "        [11.0766],\n",
       "        [11.0927],\n",
       "        [11.1089],\n",
       "        [11.1250],\n",
       "        [11.1411],\n",
       "        [11.1572],\n",
       "        [11.1733],\n",
       "        [11.1894],\n",
       "        [11.2056],\n",
       "        [11.2217],\n",
       "        [11.2378],\n",
       "        [11.2539],\n",
       "        [11.2700],\n",
       "        [11.2862],\n",
       "        [11.3023],\n",
       "        [11.3184],\n",
       "        [11.3345],\n",
       "        [11.3506],\n",
       "        [11.3667],\n",
       "        [11.3829],\n",
       "        [11.3990],\n",
       "        [11.4151],\n",
       "        [11.4312],\n",
       "        [11.4473],\n",
       "        [11.4634],\n",
       "        [11.4796],\n",
       "        [11.4957],\n",
       "        [11.5118],\n",
       "        [11.5279],\n",
       "        [11.5440],\n",
       "        [11.5602],\n",
       "        [11.5763],\n",
       "        [11.5924],\n",
       "        [11.6085],\n",
       "        [11.6246],\n",
       "        [11.6407],\n",
       "        [11.6569],\n",
       "        [11.6730],\n",
       "        [11.6891],\n",
       "        [11.7052],\n",
       "        [11.7213],\n",
       "        [11.7375],\n",
       "        [11.7536],\n",
       "        [11.7697],\n",
       "        [11.7858],\n",
       "        [11.8019],\n",
       "        [11.8180],\n",
       "        [11.8342],\n",
       "        [11.8503],\n",
       "        [11.8664],\n",
       "        [11.8825],\n",
       "        [11.8986],\n",
       "        [11.9147],\n",
       "        [11.9309],\n",
       "        [11.9470],\n",
       "        [11.9631],\n",
       "        [11.9792],\n",
       "        [11.9953],\n",
       "        [12.0115],\n",
       "        [12.0276],\n",
       "        [12.0437],\n",
       "        [12.0598],\n",
       "        [12.0759],\n",
       "        [12.0920],\n",
       "        [12.1082],\n",
       "        [12.1243],\n",
       "        [12.1404],\n",
       "        [12.1565],\n",
       "        [12.1726],\n",
       "        [12.1887],\n",
       "        [12.2049],\n",
       "        [12.2210],\n",
       "        [12.2371],\n",
       "        [12.2532],\n",
       "        [12.2693],\n",
       "        [12.2855],\n",
       "        [12.3016],\n",
       "        [12.3177],\n",
       "        [12.3338],\n",
       "        [12.3499],\n",
       "        [12.3660],\n",
       "        [12.3822],\n",
       "        [12.3983],\n",
       "        [12.4144],\n",
       "        [12.4305],\n",
       "        [12.4466],\n",
       "        [12.4628],\n",
       "        [12.4789],\n",
       "        [12.4950],\n",
       "        [12.5111],\n",
       "        [12.5272],\n",
       "        [12.5433],\n",
       "        [12.5595],\n",
       "        [12.5756],\n",
       "        [12.5917],\n",
       "        [12.6078],\n",
       "        [12.6239],\n",
       "        [12.6400],\n",
       "        [12.6562],\n",
       "        [12.6723],\n",
       "        [12.6884],\n",
       "        [12.7045],\n",
       "        [12.7206],\n",
       "        [12.7368],\n",
       "        [12.7529],\n",
       "        [12.7690],\n",
       "        [12.7851],\n",
       "        [12.8012],\n",
       "        [12.8173],\n",
       "        [12.8335],\n",
       "        [12.8496],\n",
       "        [12.8657],\n",
       "        [12.8818],\n",
       "        [12.8979],\n",
       "        [12.9140],\n",
       "        [12.9302],\n",
       "        [12.9463],\n",
       "        [12.9624],\n",
       "        [12.9785],\n",
       "        [12.9946],\n",
       "        [13.0108],\n",
       "        [13.0269],\n",
       "        [13.0430],\n",
       "        [13.0591],\n",
       "        [13.0752],\n",
       "        [13.0913],\n",
       "        [13.1075],\n",
       "        [13.1236],\n",
       "        [13.1397],\n",
       "        [13.1558],\n",
       "        [13.1719],\n",
       "        [13.1881],\n",
       "        [13.2042],\n",
       "        [13.2203],\n",
       "        [13.2364],\n",
       "        [13.2525],\n",
       "        [13.2686],\n",
       "        [13.2848],\n",
       "        [13.3009],\n",
       "        [13.3170],\n",
       "        [13.3331],\n",
       "        [13.3492],\n",
       "        [13.3653],\n",
       "        [13.3815],\n",
       "        [13.3976],\n",
       "        [13.4137],\n",
       "        [13.4298],\n",
       "        [13.4459],\n",
       "        [13.4621],\n",
       "        [13.4782],\n",
       "        [13.4943],\n",
       "        [13.5104],\n",
       "        [13.5265],\n",
       "        [13.5426],\n",
       "        [13.5588],\n",
       "        [13.5749],\n",
       "        [13.5910],\n",
       "        [13.6071],\n",
       "        [13.6232],\n",
       "        [13.6393],\n",
       "        [13.6555],\n",
       "        [13.6716],\n",
       "        [13.6877],\n",
       "        [13.7038],\n",
       "        [13.7199],\n",
       "        [13.7361],\n",
       "        [13.7522],\n",
       "        [13.7683],\n",
       "        [13.7844],\n",
       "        [13.8005],\n",
       "        [13.8166],\n",
       "        [13.8328],\n",
       "        [13.8489],\n",
       "        [13.8650],\n",
       "        [13.8811],\n",
       "        [13.8972],\n",
       "        [13.9134],\n",
       "        [13.9295],\n",
       "        [13.9456],\n",
       "        [13.9617],\n",
       "        [13.9778],\n",
       "        [13.9939],\n",
       "        [14.0101],\n",
       "        [14.0262],\n",
       "        [14.0423],\n",
       "        [14.0584],\n",
       "        [14.0745],\n",
       "        [14.0906],\n",
       "        [14.1068],\n",
       "        [14.1229],\n",
       "        [14.1390],\n",
       "        [14.1551],\n",
       "        [14.1712],\n",
       "        [14.1874],\n",
       "        [14.2035],\n",
       "        [14.2196],\n",
       "        [14.2357],\n",
       "        [14.2518],\n",
       "        [14.2679],\n",
       "        [14.2841],\n",
       "        [14.3002],\n",
       "        [14.3163],\n",
       "        [14.3324],\n",
       "        [14.3485],\n",
       "        [14.3646],\n",
       "        [14.3808],\n",
       "        [14.3969],\n",
       "        [14.4130],\n",
       "        [14.4291],\n",
       "        [14.4452],\n",
       "        [14.4614],\n",
       "        [14.4775],\n",
       "        [14.4936],\n",
       "        [14.5097],\n",
       "        [14.5258],\n",
       "        [14.5419],\n",
       "        [14.5581],\n",
       "        [14.5742],\n",
       "        [14.5903],\n",
       "        [14.6064],\n",
       "        [14.6225],\n",
       "        [14.6386],\n",
       "        [14.6548],\n",
       "        [14.6709],\n",
       "        [14.6870],\n",
       "        [14.7031],\n",
       "        [14.7192],\n",
       "        [14.7354],\n",
       "        [14.7515],\n",
       "        [14.7676],\n",
       "        [14.7837],\n",
       "        [14.7998],\n",
       "        [14.8159],\n",
       "        [14.8321],\n",
       "        [14.8482],\n",
       "        [14.8643],\n",
       "        [14.8804],\n",
       "        [14.8965],\n",
       "        [14.9127],\n",
       "        [14.9288],\n",
       "        [14.9449],\n",
       "        [14.9610],\n",
       "        [14.9771],\n",
       "        [14.9932],\n",
       "        [15.0094],\n",
       "        [15.0255],\n",
       "        [15.0416],\n",
       "        [15.0577],\n",
       "        [15.0738],\n",
       "        [15.0899],\n",
       "        [15.1061],\n",
       "        [15.1222],\n",
       "        [15.1383],\n",
       "        [15.1544],\n",
       "        [15.1705],\n",
       "        [15.1867],\n",
       "        [15.2028],\n",
       "        [15.2189],\n",
       "        [15.2350],\n",
       "        [15.2511],\n",
       "        [15.2672],\n",
       "        [15.2834],\n",
       "        [15.2995],\n",
       "        [15.3156],\n",
       "        [15.3317],\n",
       "        [15.3478],\n",
       "        [15.3639],\n",
       "        [15.3801],\n",
       "        [15.3962],\n",
       "        [15.4123],\n",
       "        [15.4284],\n",
       "        [15.4445],\n",
       "        [15.4607],\n",
       "        [15.4768]])"
      ]
     },
     "execution_count": 110,
     "metadata": {},
     "output_type": "execute_result"
    }
   ],
   "source": [
    "with torch.inference_mode():\n",
    "  # 3. Make sure the calculations are done with the model and data on the same device\n",
    "  # in our case, we haven't setup device-agnostic code yet so our data and model are\n",
    "  # on the CPU by default.\n",
    "  # model_0.to(device)\n",
    "  # X_test = X_test.to(device)\n",
    "  y_preds = model_0(X_test)\n",
    "y_preds"
   ]
  },
  {
   "cell_type": "code",
   "execution_count": 111,
   "id": "dfe698db",
   "metadata": {},
   "outputs": [
    {
     "data": {
      "image/png": "[encoded data removed]",
      "text/plain": [
       "<Figure size 640x480 with 1 Axes>"
      ]
     },
     "metadata": {},
     "output_type": "display_data"
    }
   ],
   "source": [
    "plot_predictions(predictions=y_preds)"
   ]
  },
  {
   "cell_type": "markdown",
   "id": "980dccb1",
   "metadata": {},
   "source": [
    "## Save and load a PyTorch model\n",
    "# torch.save\n",
    "# torch.load\n",
    "# torch.nn.Module.load_state_dict"
   ]
  },
  {
   "cell_type": "code",
   "execution_count": 113,
   "id": "746a6d80",
   "metadata": {},
   "outputs": [
    {
     "name": "stdout",
     "output_type": "stream",
     "text": [
      "Saveing model to: models/01_pytorch_workflow_model_0.pth\n"
     ]
    }
   ],
   "source": [
    "from pathlib import Path\n",
    "\n",
    "MODEL_PATH = Path(\"models\")\n",
    "MODEL_PATH.mkdir(parents=True, exist_ok = True)\n",
    "\n",
    "MODEL_NAME = '01_pytorch_workflow_model_0.pth'\n",
    "MODEL_SAVE_PATH = MODEL_PATH / MODEL_NAME\n",
    "\n",
    "print(f\"Saveing model to: {MODEL_SAVE_PATH}\")\n",
    "torch.save(obj = model_0.state_dict(), f=MODEL_SAVE_PATH)"
   ]
  },
  {
   "cell_type": "code",
   "execution_count": 114,
   "id": "582c753b",
   "metadata": {},
   "outputs": [
    {
     "name": "stdout",
     "output_type": "stream",
     "text": [
      "-rw-r--r--  1 huynhnguyengiakhang  staff  2117 Sep  5 17:14 models/01_pytorch_workflow_model_0.pth\n"
     ]
    }
   ],
   "source": [
    "!ls -l models/01_pytorch_workflow_model_0.pth"
   ]
  },
  {
   "cell_type": "code",
   "execution_count": 116,
   "id": "f8592945",
   "metadata": {},
   "outputs": [
    {
     "data": {
      "text/plain": [
       "<All keys matched successfully>"
      ]
     },
     "execution_count": 116,
     "metadata": {},
     "output_type": "execute_result"
    }
   ],
   "source": [
    "# Instantiate a new instance of our model (this will be instantiated with random weights)\n",
    "loaded_model_0 = LinearRegressionModel()\n",
    "\n",
    "# Load the state_dict of our saved model (this will update the new instance of our model with trained weights)\n",
    "loaded_model_0.load_state_dict(torch.load(f=MODEL_SAVE_PATH))"
   ]
  },
  {
   "cell_type": "code",
   "execution_count": 117,
   "id": "33591603",
   "metadata": {},
   "outputs": [],
   "source": [
    "# 1. Put the loaded model into evaluation mode\n",
    "loaded_model_0.eval()\n",
    "\n",
    "# 2. Use the inference mode context manager to make predictions\n",
    "with torch.inference_mode():\n",
    "    loaded_model_preds = loaded_model_0(X_test) # perform a forward pass on the test data with the loaded model"
   ]
  },
  {
   "cell_type": "code",
   "execution_count": 118,
   "id": "238d712e",
   "metadata": {},
   "outputs": [
    {
     "data": {
      "text/plain": [
       "tensor([[True],\n",
       "        [True],\n",
       "        [True],\n",
       "        [True],\n",
       "        [True],\n",
       "        [True],\n",
       "        [True],\n",
       "        [True],\n",
       "        [True],\n",
       "        [True],\n",
       "        [True],\n",
       "        [True],\n",
       "        [True],\n",
       "        [True],\n",
       "        [True],\n",
       "        [True],\n",
       "        [True],\n",
       "        [True],\n",
       "        [True],\n",
       "        [True],\n",
       "        [True],\n",
       "        [True],\n",
       "        [True],\n",
       "        [True],\n",
       "        [True],\n",
       "        [True],\n",
       "        [True],\n",
       "        [True],\n",
       "        [True],\n",
       "        [True],\n",
       "        [True],\n",
       "        [True],\n",
       "        [True],\n",
       "        [True],\n",
       "        [True],\n",
       "        [True],\n",
       "        [True],\n",
       "        [True],\n",
       "        [True],\n",
       "        [True],\n",
       "        [True],\n",
       "        [True],\n",
       "        [True],\n",
       "        [True],\n",
       "        [True],\n",
       "        [True],\n",
       "        [True],\n",
       "        [True],\n",
       "        [True],\n",
       "        [True],\n",
       "        [True],\n",
       "        [True],\n",
       "        [True],\n",
       "        [True],\n",
       "        [True],\n",
       "        [True],\n",
       "        [True],\n",
       "        [True],\n",
       "        [True],\n",
       "        [True],\n",
       "        [True],\n",
       "        [True],\n",
       "        [True],\n",
       "        [True],\n",
       "        [True],\n",
       "        [True],\n",
       "        [True],\n",
       "        [True],\n",
       "        [True],\n",
       "        [True],\n",
       "        [True],\n",
       "        [True],\n",
       "        [True],\n",
       "        [True],\n",
       "        [True],\n",
       "        [True],\n",
       "        [True],\n",
       "        [True],\n",
       "        [True],\n",
       "        [True],\n",
       "        [True],\n",
       "        [True],\n",
       "        [True],\n",
       "        [True],\n",
       "        [True],\n",
       "        [True],\n",
       "        [True],\n",
       "        [True],\n",
       "        [True],\n",
       "        [True],\n",
       "        [True],\n",
       "        [True],\n",
       "        [True],\n",
       "        [True],\n",
       "        [True],\n",
       "        [True],\n",
       "        [True],\n",
       "        [True],\n",
       "        [True],\n",
       "        [True],\n",
       "        [True],\n",
       "        [True],\n",
       "        [True],\n",
       "        [True],\n",
       "        [True],\n",
       "        [True],\n",
       "        [True],\n",
       "        [True],\n",
       "        [True],\n",
       "        [True],\n",
       "        [True],\n",
       "        [True],\n",
       "        [True],\n",
       "        [True],\n",
       "        [True],\n",
       "        [True],\n",
       "        [True],\n",
       "        [True],\n",
       "        [True],\n",
       "        [True],\n",
       "        [True],\n",
       "        [True],\n",
       "        [True],\n",
       "        [True],\n",
       "        [True],\n",
       "        [True],\n",
       "        [True],\n",
       "        [True],\n",
       "        [True],\n",
       "        [True],\n",
       "        [True],\n",
       "        [True],\n",
       "        [True],\n",
       "        [True],\n",
       "        [True],\n",
       "        [True],\n",
       "        [True],\n",
       "        [True],\n",
       "        [True],\n",
       "        [True],\n",
       "        [True],\n",
       "        [True],\n",
       "        [True],\n",
       "        [True],\n",
       "        [True],\n",
       "        [True],\n",
       "        [True],\n",
       "        [True],\n",
       "        [True],\n",
       "        [True],\n",
       "        [True],\n",
       "        [True],\n",
       "        [True],\n",
       "        [True],\n",
       "        [True],\n",
       "        [True],\n",
       "        [True],\n",
       "        [True],\n",
       "        [True],\n",
       "        [True],\n",
       "        [True],\n",
       "        [True],\n",
       "        [True],\n",
       "        [True],\n",
       "        [True],\n",
       "        [True],\n",
       "        [True],\n",
       "        [True],\n",
       "        [True],\n",
       "        [True],\n",
       "        [True],\n",
       "        [True],\n",
       "        [True],\n",
       "        [True],\n",
       "        [True],\n",
       "        [True],\n",
       "        [True],\n",
       "        [True],\n",
       "        [True],\n",
       "        [True],\n",
       "        [True],\n",
       "        [True],\n",
       "        [True],\n",
       "        [True],\n",
       "        [True],\n",
       "        [True],\n",
       "        [True],\n",
       "        [True],\n",
       "        [True],\n",
       "        [True],\n",
       "        [True],\n",
       "        [True],\n",
       "        [True],\n",
       "        [True],\n",
       "        [True],\n",
       "        [True],\n",
       "        [True],\n",
       "        [True],\n",
       "        [True],\n",
       "        [True],\n",
       "        [True],\n",
       "        [True],\n",
       "        [True],\n",
       "        [True],\n",
       "        [True],\n",
       "        [True],\n",
       "        [True],\n",
       "        [True],\n",
       "        [True],\n",
       "        [True],\n",
       "        [True],\n",
       "        [True],\n",
       "        [True],\n",
       "        [True],\n",
       "        [True],\n",
       "        [True],\n",
       "        [True],\n",
       "        [True],\n",
       "        [True],\n",
       "        [True],\n",
       "        [True],\n",
       "        [True],\n",
       "        [True],\n",
       "        [True],\n",
       "        [True],\n",
       "        [True],\n",
       "        [True],\n",
       "        [True],\n",
       "        [True],\n",
       "        [True],\n",
       "        [True],\n",
       "        [True],\n",
       "        [True],\n",
       "        [True],\n",
       "        [True],\n",
       "        [True],\n",
       "        [True],\n",
       "        [True],\n",
       "        [True],\n",
       "        [True],\n",
       "        [True],\n",
       "        [True],\n",
       "        [True],\n",
       "        [True],\n",
       "        [True],\n",
       "        [True],\n",
       "        [True],\n",
       "        [True],\n",
       "        [True],\n",
       "        [True],\n",
       "        [True],\n",
       "        [True],\n",
       "        [True],\n",
       "        [True],\n",
       "        [True],\n",
       "        [True],\n",
       "        [True],\n",
       "        [True],\n",
       "        [True],\n",
       "        [True],\n",
       "        [True],\n",
       "        [True],\n",
       "        [True],\n",
       "        [True],\n",
       "        [True],\n",
       "        [True],\n",
       "        [True],\n",
       "        [True],\n",
       "        [True],\n",
       "        [True],\n",
       "        [True],\n",
       "        [True],\n",
       "        [True],\n",
       "        [True],\n",
       "        [True],\n",
       "        [True],\n",
       "        [True],\n",
       "        [True],\n",
       "        [True],\n",
       "        [True],\n",
       "        [True],\n",
       "        [True],\n",
       "        [True],\n",
       "        [True],\n",
       "        [True],\n",
       "        [True],\n",
       "        [True],\n",
       "        [True],\n",
       "        [True],\n",
       "        [True],\n",
       "        [True],\n",
       "        [True],\n",
       "        [True],\n",
       "        [True],\n",
       "        [True],\n",
       "        [True],\n",
       "        [True],\n",
       "        [True],\n",
       "        [True],\n",
       "        [True]])"
      ]
     },
     "execution_count": 118,
     "metadata": {},
     "output_type": "execute_result"
    }
   ],
   "source": [
    "# Compare previous model predictions with loaded model predictions (these should be the same)\n",
    "y_preds == loaded_model_preds"
   ]
  }
 ],
 "metadata": {
  "kernelspec": {
   "display_name": "myvenv",
   "language": "python",
   "name": "python3"
  },
  "language_info": {
   "codemirror_mode": {
    "name": "ipython",
    "version": 3
   },
   "file_extension": ".py",
   "mimetype": "text/x-python",
   "name": "python",
   "nbconvert_exporter": "python",
   "pygments_lexer": "ipython3",
   "version": "3.11.2"
  }
 },
 "nbformat": 4,
 "nbformat_minor": 5
}
