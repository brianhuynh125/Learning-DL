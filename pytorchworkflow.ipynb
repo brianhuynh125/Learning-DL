{
 "cells": [
  {
   "cell_type": "code",
   "execution_count": 1,
   "id": "c2ee64e9",
   "metadata": {},
   "outputs": [],
   "source": [
    "import torch"
   ]
  },
  {
   "cell_type": "code",
   "execution_count": 2,
   "id": "1daf8154",
   "metadata": {},
   "outputs": [],
   "source": [
    "#Create *known* params\n",
    "weight = 0.7\n",
    "bias = 0.3\n",
    "\n",
    "#Create some data\n",
    "start = 0\n",
    "end = 20\n",
    "step = 0.02\n",
    "X = torch.arange(start,end,step).unsqueeze(dim = 1)\n",
    "Y = weight * X + bias"
   ]
  },
  {
   "cell_type": "code",
   "execution_count": 3,
   "id": "4e260cea",
   "metadata": {},
   "outputs": [
    {
     "data": {
      "text/plain": [
       "(tensor([[0.0000],\n",
       "         [0.0200],\n",
       "         [0.0400],\n",
       "         [0.0600],\n",
       "         [0.0800],\n",
       "         [0.1000],\n",
       "         [0.1200],\n",
       "         [0.1400],\n",
       "         [0.1600],\n",
       "         [0.1800]]),\n",
       " tensor([[0.3000],\n",
       "         [0.3140],\n",
       "         [0.3280],\n",
       "         [0.3420],\n",
       "         [0.3560],\n",
       "         [0.3700],\n",
       "         [0.3840],\n",
       "         [0.3980],\n",
       "         [0.4120],\n",
       "         [0.4260]]))"
      ]
     },
     "execution_count": 3,
     "metadata": {},
     "output_type": "execute_result"
    }
   ],
   "source": [
    "X[:10],Y[:10]"
   ]
  },
  {
   "cell_type": "code",
   "execution_count": 4,
   "id": "b37338b2",
   "metadata": {},
   "outputs": [],
   "source": [
    "#Create Train/Test Split\n",
    "train_split = int(0.7 * len(X)) #roughly 70% of data will be for training\n",
    "X_train, Y_train = X[:train_split],Y[:train_split]\n",
    "\n",
    "X_test, Y_test = X[train_split:],Y[train_split:]\n"
   ]
  },
  {
   "cell_type": "code",
   "execution_count": 5,
   "id": "836e21fd",
   "metadata": {},
   "outputs": [],
   "source": [
    "import matplotlib.pyplot as plt"
   ]
  },
  {
   "cell_type": "code",
   "execution_count": 38,
   "id": "584bcc2d",
   "metadata": {},
   "outputs": [],
   "source": [
    "def plot_predictions(X_train = X_train, Y_train = Y_train, X_test = X_test, Y_test = Y_test, predictions = None):\n",
    "    plt.figure()\n",
    "    plt.scatter(X_train, Y_train, c = \"b\", s = 4, label = \"Training data\")\n",
    "    plt.scatter(X_test, Y_test, c=\"g\", s= 4, label = \"Testing data\")\n",
    "\n",
    "    if predictions is not None:\n",
    "        plt.scatter(X_test, predictions, c = \"r\",s = 4, label = \"Predictions\")\n",
    "\n",
    "    plt.legend()"
   ]
  },
  {
   "cell_type": "code",
   "execution_count": 7,
   "id": "a32b76c2",
   "metadata": {},
   "outputs": [
    {
     "data": {
      "image/png": "[encoded data removed]",
      "text/plain": [
       "<Figure size 640x480 with 1 Axes>"
      ]
     },
     "metadata": {},
     "output_type": "display_data"
    }
   ],
   "source": [
    "plot_predictions()"
   ]
  },
  {
   "cell_type": "code",
   "execution_count": 25,
   "id": "9a3c81a0",
   "metadata": {},
   "outputs": [],
   "source": [
    "from torch import nn as nn #\n",
    "#Let's build a Linear Reg model class\n",
    "class LinearRegressionModel(nn.Module): #nn.Module is the base class for all NN modules\n",
    "    def __init__(self):\n",
    "        super().__init__()\n",
    "        self.weights = nn.Parameter(torch.randn(1), requires_grad = True) #Set this param to True since we want to update this nn's parameter using gradient descent\n",
    "        self.bias = nn.Parameter(torch.randn(1), requires_grad = True) #Same thing with bias\n",
    "\n",
    "    def forward(self, x):\n",
    "        return self.weights * x + self.bias #Linear reg formula"
   ]
  },
  {
   "cell_type": "markdown",
   "id": "771144ba",
   "metadata": {},
   "source": [
    "## Some Pytorch model building essentials"
   ]
  },
  {
   "cell_type": "markdown",
   "id": "8ad6af6c",
   "metadata": {},
   "source": [
    "# torch.nn \n",
    "Contains all of the building blocks for computational graphs\n",
    "\n",
    "# torch.nn.Module\n",
    "The base class for all neural network modules\n",
    "\n",
    "# torch.nn.Parameter\n",
    "Storage of tensors taht can be sued with nn.Module. If 'require_grad = True' gradients are calculated automatically.\n",
    "\n",
    "# torch.optim\n",
    "Contains various optimisation algorithms, or learning rate....\n",
    "\n",
    "# def forward()\n",
    "Defines the computation that will take place on the data passed to the nn.Module"
   ]
  },
  {
   "cell_type": "markdown",
   "id": "118b7e26",
   "metadata": {},
   "source": [
    "So in this case of Linear Regression, the tensors/params/variables need to be updated/estimate is the weight and bias of the equation, and the computation in the forward() method is just the entire linear regression"
   ]
  },
  {
   "cell_type": "code",
   "execution_count": 28,
   "id": "b3a227ed",
   "metadata": {},
   "outputs": [],
   "source": [
    "#Let run an example\n",
    "\n",
    "torch.manual_seed(120504) #Any see of your choice\n",
    "\n",
    "model_0 = LinearRegressionModel()"
   ]
  },
  {
   "cell_type": "code",
   "execution_count": 29,
   "id": "e8835694",
   "metadata": {},
   "outputs": [
    {
     "data": {
      "text/plain": [
       "[Parameter containing:\n",
       " tensor([1.5266], requires_grad=True),\n",
       " Parameter containing:\n",
       " tensor([-0.1108], requires_grad=True)]"
      ]
     },
     "execution_count": 29,
     "metadata": {},
     "output_type": "execute_result"
    }
   ],
   "source": [
    "list(model_0.parameters())"
   ]
  },
  {
   "cell_type": "code",
   "execution_count": 30,
   "id": "dc100ba0",
   "metadata": {},
   "outputs": [
    {
     "data": {
      "text/plain": [
       "OrderedDict([('weights', tensor([1.5266])), ('bias', tensor([-0.1108]))])"
      ]
     },
     "execution_count": 30,
     "metadata": {},
     "output_type": "execute_result"
    }
   ],
   "source": [
    "model_0.state_dict()"
   ]
  },
  {
   "cell_type": "code",
   "execution_count": 31,
   "id": "0fca460e",
   "metadata": {},
   "outputs": [],
   "source": [
    "#We can now make some predictions using torch.inference_mode()\n",
    "\n",
    "with torch.inference_mode():\n",
    "    y_preds = model_0(X_test)"
   ]
  },
  {
   "cell_type": "code",
   "execution_count": 36,
   "id": "580c8373",
   "metadata": {},
   "outputs": [
    {
     "name": "stdout",
     "output_type": "stream",
     "text": [
      "Number of testing samples:  300\n",
      "Number of predictions made:  300\n"
     ]
    }
   ],
   "source": [
    "print(\"Number of testing samples: \", len(X_test))\n",
    "print(\"Number of predictions made: \", len(y_preds))"
   ]
  },
  {
   "cell_type": "code",
   "execution_count": 39,
   "id": "27d718bb",
   "metadata": {},
   "outputs": [
    {
     "data": {
      "image/png": "[encoded data removed]",
      "text/plain": [
       "<Figure size 640x480 with 1 Axes>"
      ]
     },
     "metadata": {},
     "output_type": "display_data"
    }
   ],
   "source": [
    "plot_predictions(predictions = y_preds)"
   ]
  },
  {
   "cell_type": "code",
   "execution_count": 40,
   "id": "071050e7",
   "metadata": {},
   "outputs": [],
   "source": [
    "# We can see without training, the esimated relationship is so bad"
   ]
  },
  {
   "cell_type": "markdown",
   "id": "76b20b2f",
   "metadata": {},
   "source": [
    "# Train model\n",
    "\n",
    "We need to define loss function see torch.nn and optimiser see torch.optim\n"
   ]
  },
  {
   "cell_type": "code",
   "execution_count": 54,
   "id": "7f30088f",
   "metadata": {},
   "outputs": [],
   "source": [
    "#Create a list of the 3 lost function: MAE, MSE and NLLoss\n",
    "\n",
    "MAE_loss = nn.L1Loss()\n",
    "MSE_loss = nn.MSELoss()\n",
    "NegLog_loss = nn.NLLLoss()\n",
    "loss_fn_lst = [MAE_loss, MSE_loss, NegLog_loss]"
   ]
  },
  {
   "cell_type": "code",
   "execution_count": 57,
   "id": "444aa793",
   "metadata": {},
   "outputs": [],
   "source": [
    "#Create several optimiser as well: Adam, SGD and Rprop\n",
    "Adam_opt = torch.optim.Adam(params = model_0.parameters(), lr = 0.01)\n",
    "SGD_opt = torch.optim.SGD(params = model_0.parameters(), lr = 0.01)\n",
    "Rprop_opt = torch.optim.Rprop(params = model_0.parameters(), lr = 0.01)\n",
    "optimiser_list = [Adam_opt, SGD_opt, Rprop_opt]"
   ]
  },
  {
   "cell_type": "code",
   "execution_count": null,
   "id": "e94d323f",
   "metadata": {},
   "outputs": [],
   "source": [
    "#Let's start training the model for 100 epochs\n",
    "def let_s_train(model_0 = model_0, X_train = X_train, loss_fn = None, optimiser = None, Y_train = Y_train, X_test= X_test, Y_test = Y_test ):\n",
    "    torch.manual_seed(120504)\n",
    "\n",
    "    epochs = 180 #The model will pass oever the training data 100 time\n",
    "\n",
    "    #Create empty loss lists to track values\n",
    "\n",
    "    train_lost_values = []\n",
    "    test_lost_values = []\n",
    "    epoch_count = []\n",
    "\n",
    "    for epoch in range(epochs):\n",
    "        ###Training\n",
    "        \n",
    "        #put model in the training mode\n",
    "        model_0.train()\n",
    "        \n",
    "        y_pred = model_0(X_train)\n",
    "        \n",
    "        #calulate the loss\n",
    "        loss = loss_fn(y_pred,Y_train)\n",
    "        \n",
    "        #zero grad of the optimiser\n",
    "        optimiser.zero_grad()\n",
    "        \n",
    "        #loss.backwards\n",
    "        loss.backward()\n",
    "        \n",
    "        optimiser.step()\n",
    "        \n",
    "        ###Testing\n",
    "        \n",
    "        model_0.eval()\n",
    "        \n",
    "        with torch.inference_mode():\n",
    "            test_pred = model_0(X_test)\n",
    "            \n",
    "            test_loss = loss_fn(test_pred, Y_test.type(torch.float))\n",
    "            \n",
    "            if epoch %10 == 0:\n",
    "                epoch_count.append(epoch)\n",
    "                train_lost_values.append(loss.detach().numpy())\n",
    "                test_lost_values.append(test_loss.detach().numpy())\n",
    "                print(f\"Epoch: {epoch} | Train Loss: {loss} | Test Loss: {test_loss}\")\n",
    "                \n",
    "    plt.plot(epoch_count, train_lost_values, label=\"Train loss\")\n",
    "    plt.plot(epoch_count, test_lost_values, label=\"Test loss\")\n",
    "    plt.title(\"Training and test loss curves\")\n",
    "    plt.ylabel(\"Loss\")\n",
    "    plt.xlabel(\"Epochs\")\n",
    "    plt.legend();\n",
    "    \n",
    "    "
   ]
  },
  {
   "cell_type": "code",
   "execution_count": 70,
   "id": "7fa80201",
   "metadata": {},
   "outputs": [
    {
     "name": "stdout",
     "output_type": "stream",
     "text": [
      "Epoch: 0 | Train Loss: 0.011870614252984524 | Test Loss: 0.009711891412734985\n",
      "Epoch: 10 | Train Loss: 0.01110133808106184 | Test Loss: 0.014979839324951172\n",
      "Epoch: 20 | Train Loss: 0.013403167948126793 | Test Loss: 0.041045986115932465\n",
      "Epoch: 30 | Train Loss: 0.011166955344378948 | Test Loss: 0.008872664533555508\n",
      "Epoch: 40 | Train Loss: 0.010731584392488003 | Test Loss: 0.013978013768792152\n",
      "Epoch: 50 | Train Loss: 0.012983758002519608 | Test Loss: 0.03968529775738716\n",
      "Epoch: 60 | Train Loss: 0.010610061697661877 | Test Loss: 0.008223816752433777\n",
      "Epoch: 70 | Train Loss: 0.010463729500770569 | Test Loss: 0.013207136653363705\n",
      "Epoch: 80 | Train Loss: 0.01266483310610056 | Test Loss: 0.038642026484012604\n",
      "Epoch: 90 | Train Loss: 0.010177066549658775 | Test Loss: 0.007720333524048328\n",
      "Epoch: 100 | Train Loss: 0.010254224762320518 | Test Loss: 0.012603756971657276\n",
      "Epoch: 110 | Train Loss: 0.012411602772772312 | Test Loss: 0.03781362622976303\n",
      "Epoch: 120 | Train Loss: 0.009831060655415058 | Test Loss: 0.0073187509551644325\n",
      "Epoch: 130 | Train Loss: 0.010084845125675201 | Test Loss: 0.012115449644625187\n",
      "Epoch: 140 | Train Loss: 0.012205361388623714 | Test Loss: 0.03713860735297203\n",
      "Epoch: 150 | Train Loss: 0.00954901147633791 | Test Loss: 0.006992944050580263\n",
      "Epoch: 160 | Train Loss: 0.009945197962224483 | Test Loss: 0.01171488780528307\n",
      "Epoch: 170 | Train Loss: 0.012034310027956963 | Test Loss: 0.03657864034175873\n"
     ]
    }
   ],
   "source": [
    "let_s_train(loss_fn = loss_fn_lst[0], optimiser = optimiser_list[0])"
   ]
  },
  {
   "cell_type": "code",
   "execution_count": null,
   "id": "b18f5dfc",
   "metadata": {},
   "outputs": [],
   "source": [
    "plt.plot(epoch_count, train_loss_values, label=\"Train loss\")\n",
    "plt.plot(epoch_count, test_loss_values, label=\"Test loss\")\n",
    "plt.title(\"Training and test loss curves\")\n",
    "plt.ylabel(\"Loss\")\n",
    "plt.xlabel(\"Epochs\")\n",
    "plt.legend();\n"
   ]
  }
 ],
 "metadata": {
  "kernelspec": {
   "display_name": "myvenv",
   "language": "python",
   "name": "python3"
  },
  "language_info": {
   "codemirror_mode": {
    "name": "ipython",
    "version": 3
   },
   "file_extension": ".py",
   "mimetype": "text/x-python",
   "name": "python",
   "nbconvert_exporter": "python",
   "pygments_lexer": "ipython3",
   "version": "3.11.2"
  }
 },
 "nbformat": 4,
 "nbformat_minor": 5
}
